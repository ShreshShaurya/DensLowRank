{
 "cells": [
  {
   "cell_type": "markdown",
   "id": "8fa3668c",
   "metadata": {},
   "source": [
    "\n",
    "\n",
    "<center><img src=\"data:image/png;base64,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\" width=400 height=300/></center>\n",
    "\n",
    "___\n"
   ]
  },
  {
   "cell_type": "markdown",
   "id": "22e7dfd6",
   "metadata": {},
   "source": [
    "### The Goal of this notebook is to optimise low rank estimation 🚀:\n",
    " \n",
    "### Structure of the Script:\n",
    "* <b>Input:</b> matrice\n",
    "* <b>Output:</b> error_low_rank, error_empirical\n",
    "* <b>Method:</b> \n",
    "    * generate_low_rank_samples():\n",
    "        * has four parameters: d1,d2,K,n\n",
    "        * returns tuple of (res, Y1/n, Y2/n)\n",
    "    * generate_dirichlet_low_rank_samples(): \n",
    "        * has six parameters: d1,d2,K,n,diric1,diric2\n",
    "        * returns tuple of (res,Y1/n, Y2/n)\n",
    "    * our_algo():\n",
    "        * has six parameters: n,Y1,Y2,alpha,cstar,Cbar\n",
    "        * returns res/np.sum(res)\n",
    "    * loss_calculation() - returns two values: error_low_rank, error_empirical\n",
    "\n",
    "### Current Scope: \n",
    "This notebook is estimation procedure. But we have to do otimisation for multi-dimension density estimation procedure as well\n",
    "\n",
    "-----"
   ]
  },
  {
   "cell_type": "markdown",
   "id": "a79c4ec3",
   "metadata": {},
   "source": [
    "# Table Of Content\n",
    "* I - [Import of Packages](#first-bullet)\n",
    "* II - [generate_low_rank_samples](#second-bullet)\n",
    "* III - [generate_dirichlet_low_rank_samples](#third-bullet)\n",
    "* IV - [our_algo](#fourth-bullet)\n",
    "* V - [loss_calculation](#fifth-bullet)\n"
   ]
  },
  {
   "cell_type": "markdown",
   "id": "65808547",
   "metadata": {},
   "source": [
    "## I - Import of Packages <a class=\"anchor\" id=\"first-bullet\"></a>"
   ]
  },
  {
   "cell_type": "code",
   "execution_count": 2,
   "id": "e27c0a2a",
   "metadata": {},
   "outputs": [],
   "source": [
    "#group 1\n",
    "import sys # lets us access system-specific parameters and functions\n",
    "\n",
    "#group 2\n",
    "import numpy as np # Python library used for working with multi-dimensional array and matrix data structures\n",
    "import matplotlib.pyplot as plt #functions that make matplotlib work like MATLAB\n",
    "\n",
    "np.random.seed(1) "
   ]
  },
  {
   "cell_type": "markdown",
   "id": "9017790c",
   "metadata": {},
   "source": [
    "## II - generate_low_rank_samples <a class=\"anchor\" id=\"second-bullet\"></a>"
   ]
  },
  {
   "cell_type": "code",
   "execution_count": null,
   "id": "0598767d-c009-41ab-8295-b50ff4a0ca3e",
   "metadata": {},
   "outputs": [],
   "source": [
    "K = 10\n",
    "Cbar = .5\n",
    "alpha = .1\n",
    "cstar= alpha/10\n",
    "beg = 100\n",
    "end = 400\n",
    "step = 20\n",
    "error_low_rank  = np.zeros(len(range(beg,end,step)))\n",
    "error_empirical = np.zeros(len(range(beg,end,step)))\n",
    "\n",
    "for (i,d) in enumerate(range(beg,end,step)):\n",
    "    d1 = d\n",
    "    d2 = d\n",
    "    n = int(10000*d*np.log(d)**2)\n",
    "    diric1 = d1/(3*K)\n",
    "    diric2 = d2/(3*K)\n",
    "    (P,Y1,Y2) = generate_dirichlet_low_rank_samples(d1,d2,K,n, diric1,diric2)\n",
    "    #(P,Y1,Y2) = generate_low_rank_samples(d1,d2,K,n, diric1,diric2)\n",
    "    P_hat = our_algo(n,Y1,Y2,alpha,cstar,Cbar)\n",
    "    error_low_rank[i] = np.sum(np.abs(P-P_hat))\n",
    "    error_empirical[i] = np.sum(np.abs(P-Y2))"
   ]
  },
  {
   "cell_type": "code",
   "execution_count": 2,
   "id": "1373c12f-dfde-4221-b910-3eaf7d92212d",
   "metadata": {},
   "outputs": [],
   "source": [
    "beg = 100\n",
    "end = 400\n",
    "step = 20\n",
    "K = 10\n",
    "for (i,d) in enumerate(range(beg,end,step)):\n",
    "    n = int(10000*d*np.log(d)**2)"
   ]
  },
  {
   "cell_type": "code",
   "execution_count": 1,
   "id": "b0ad79fb-f27c-4157-9846-bf936949053a",
   "metadata": {},
   "outputs": [],
   "source": [
    "m = 1000000\n",
    "n = 1000000"
   ]
  },
  {
   "cell_type": "code",
   "execution_count": 2,
   "id": "b7750c89-459b-4cc8-8793-a94aec1e86c2",
   "metadata": {},
   "outputs": [
    {
     "name": "stdout",
     "output_type": "stream",
     "text": [
      "CPU times: user 3 µs, sys: 1e+03 ns, total: 4 µs\n",
      "Wall time: 6.91 µs\n"
     ]
    },
    {
     "ename": "NameError",
     "evalue": "name 'np' is not defined",
     "output_type": "error",
     "traceback": [
      "\u001b[0;31m---------------------------------------------------------------------------\u001b[0m",
      "\u001b[0;31mNameError\u001b[0m                                 Traceback (most recent call last)",
      "Input \u001b[0;32mIn [2]\u001b[0m, in \u001b[0;36m<cell line: 2>\u001b[0;34m()\u001b[0m\n\u001b[1;32m      1\u001b[0m get_ipython()\u001b[38;5;241m.\u001b[39mrun_line_magic(\u001b[38;5;124m'\u001b[39m\u001b[38;5;124mtime\u001b[39m\u001b[38;5;124m'\u001b[39m, \u001b[38;5;124m'\u001b[39m\u001b[38;5;124m'\u001b[39m)\n\u001b[0;32m----> 2\u001b[0m res \u001b[38;5;241m=\u001b[39m \u001b[43mnp\u001b[49m\u001b[38;5;241m.\u001b[39mzeros((m,n))\n",
      "\u001b[0;31mNameError\u001b[0m: name 'np' is not defined"
     ]
    }
   ],
   "source": [
    "%time\n",
    "res = np.zeros((m,n))"
   ]
  },
  {
   "cell_type": "code",
   "execution_count": null,
   "id": "108bf2a7-5d7b-4357-8c0c-2d848045f483",
   "metadata": {},
   "outputs": [
    {
     "name": "stdout",
     "output_type": "stream",
     "text": [
      "CPU times: user 2 µs, sys: 1e+03 ns, total: 3 µs\n",
      "Wall time: 6.2 µs\n"
     ]
    }
   ],
   "source": [
    "%time\n",
    "zeros = np.empty((m, n))\n",
    "zeros.fill(0)"
   ]
  },
  {
   "cell_type": "code",
   "execution_count": 7,
   "id": "2143203a-6ec2-4828-84f5-7e363451a989",
   "metadata": {},
   "outputs": [],
   "source": [
    "d1 = d\n",
    "d2 = d"
   ]
  },
  {
   "cell_type": "code",
   "execution_count": null,
   "id": "22780275-ec84-4dba-bd05-c5d216315c25",
   "metadata": {},
   "outputs": [],
   "source": [
    "@njit\n",
    "def for_loop_for_begin(d):\n",
    "    res = np.zeros((d,d)) \n",
    "    for k in range(K): \n",
    "        u = np.random.rand(d,1) \n",
    "        res += 1/K * u.dot(u.T)\n",
    "    return res\n",
    "for_loop_for_begin(10000)"
   ]
  },
  {
   "cell_type": "code",
   "execution_count": 14,
   "id": "d4b4f93d-47e6-484d-953a-b752f80df504",
   "metadata": {},
   "outputs": [],
   "source": [
    "from numba import njit\n",
    "import numpy as np"
   ]
  },
  {
   "cell_type": "code",
   "execution_count": 19,
   "id": "52d3519d-a8dd-43b0-8f11-1661b3492d72",
   "metadata": {},
   "outputs": [
    {
     "name": "stdout",
     "output_type": "stream",
     "text": [
      "330 µs ± 48.8 µs per loop (mean ± std. dev. of 7 runs, 1,000 loops each)\n"
     ]
    }
   ],
   "source": [
    "%%timeit\n",
    "def for_loop_dot_product(d,K):\n",
    "    res = np.zeros((d,d)) \n",
    "    for k in range(K): \n",
    "        u = np.random.rand(d,1) \n",
    "        res += 1/K * u.dot(u.T)\n",
    "    return res\n",
    "for_loop_dot_product(100,10)"
   ]
  },
  {
   "cell_type": "code",
   "execution_count": 20,
   "id": "4b79e7b9-8121-4d4e-b665-293b79e258da",
   "metadata": {},
   "outputs": [
    {
     "name": "stdout",
     "output_type": "stream",
     "text": [
      "297 µs ± 813 ns per loop (mean ± std. dev. of 7 runs, 1,000 loops each)\n"
     ]
    }
   ],
   "source": [
    "%%timeit\n",
    "def for_loop_dot_product(d,K):\n",
    "    res = np.zeros((d,d)) \n",
    "    for k in range(K): \n",
    "        res += 1/K * np.random.rand(d,1).dot(np.random.rand(d,1).T)\n",
    "    return res\n",
    "for_loop_dot_product(100,10)"
   ]
  },
  {
   "cell_type": "code",
   "execution_count": 22,
   "id": "ffc5eda5-3a30-4d91-aeee-ee55005b6c68",
   "metadata": {},
   "outputs": [
    {
     "name": "stdout",
     "output_type": "stream",
     "text": [
      "279 ms ± 10.1 ms per loop (mean ± std. dev. of 7 runs, 1 loop each)\n"
     ]
    }
   ],
   "source": [
    "%%timeit\n",
    "@njit\n",
    "def for_loop_dot_product(d,K):\n",
    "    res = np.zeros((d,d)) \n",
    "    for k in range(K): \n",
    "        res += 1/K * np.random.rand(d,1).dot(np.random.rand(d,1).T)\n",
    "    return res\n",
    "for_loop_dot_product(100,10)"
   ]
  },
  {
   "cell_type": "code",
   "execution_count": null,
   "id": "f1e879c6-490d-4058-bc45-20c3db2a1fdf",
   "metadata": {},
   "outputs": [],
   "source": [
    "u = np.random.rand(d,1) \n",
    "res += 1/K * u.dot(u.T)"
   ]
  },
  {
   "cell_type": "code",
   "execution_count": 3,
   "id": "053f6a8c-ea44-48b5-b7d7-1436f4a5c85c",
   "metadata": {},
   "outputs": [
    {
     "ename": "NameError",
     "evalue": "name 'res' is not defined",
     "output_type": "error",
     "traceback": [
      "\u001b[0;31m---------------------------------------------------------------------------\u001b[0m",
      "\u001b[0;31mNameError\u001b[0m                                 Traceback (most recent call last)",
      "Input \u001b[0;32mIn [3]\u001b[0m, in \u001b[0;36m<cell line: 1>\u001b[0;34m()\u001b[0m\n\u001b[0;32m----> 1\u001b[0m res \u001b[38;5;241m+\u001b[39m\u001b[38;5;241m=\u001b[39m \u001b[38;5;241m1\u001b[39m\n",
      "\u001b[0;31mNameError\u001b[0m: name 'res' is not defined"
     ]
    }
   ],
   "source": [
    "res += 1"
   ]
  },
  {
   "cell_type": "code",
   "execution_count": 4,
   "id": "c89a9c47-6d5d-463a-8a07-9c0dd427a490",
   "metadata": {},
   "outputs": [],
   "source": [
    "test = 0\n",
    "test += 1"
   ]
  },
  {
   "cell_type": "code",
   "execution_count": 10,
   "id": "ad109b8c-80d0-47b2-b63e-7b8eb3051168",
   "metadata": {},
   "outputs": [
    {
     "ename": "SyntaxError",
     "evalue": "invalid syntax (807001933.py, line 1)",
     "output_type": "error",
     "traceback": [
      "\u001b[0;36m  Input \u001b[0;32mIn [10]\u001b[0;36m\u001b[0m\n\u001b[0;31m    list = [(k += 1) for k in [0,1]]\u001b[0m\n\u001b[0m               ^\u001b[0m\n\u001b[0;31mSyntaxError\u001b[0m\u001b[0;31m:\u001b[0m invalid syntax\n"
     ]
    }
   ],
   "source": [
    "list = [(k += 1) for k in [0,1]]"
   ]
  },
  {
   "cell_type": "code",
   "execution_count": 23,
   "id": "e4e8c291-5a8d-43f9-8658-26df853874c4",
   "metadata": {},
   "outputs": [
    {
     "ename": "KeyboardInterrupt",
     "evalue": "",
     "output_type": "error",
     "traceback": [
      "\u001b[0;31m---------------------------------------------------------------------------\u001b[0m",
      "\u001b[0;31mKeyboardInterrupt\u001b[0m                         Traceback (most recent call last)",
      "Input \u001b[0;32mIn [23]\u001b[0m, in \u001b[0;36m<cell line: 1>\u001b[0;34m()\u001b[0m\n\u001b[0;32m----> 1\u001b[0m \u001b[43mget_ipython\u001b[49m\u001b[43m(\u001b[49m\u001b[43m)\u001b[49m\u001b[38;5;241;43m.\u001b[39;49m\u001b[43mrun_cell_magic\u001b[49m\u001b[43m(\u001b[49m\u001b[38;5;124;43m'\u001b[39;49m\u001b[38;5;124;43mtimeit\u001b[39;49m\u001b[38;5;124;43m'\u001b[39;49m\u001b[43m,\u001b[49m\u001b[43m \u001b[49m\u001b[38;5;124;43m'\u001b[39;49m\u001b[38;5;124;43m'\u001b[39;49m\u001b[43m,\u001b[49m\u001b[43m \u001b[49m\u001b[38;5;124;43m'\u001b[39;49m\u001b[38;5;124;43mdef for_loop_dot_product(d,K):\u001b[39;49m\u001b[38;5;130;43;01m\\n\u001b[39;49;00m\u001b[38;5;124;43m    res = np.zeros((d,d)) \u001b[39;49m\u001b[38;5;130;43;01m\\n\u001b[39;49;00m\u001b[38;5;124;43m    for k in range(K): \u001b[39;49m\u001b[38;5;130;43;01m\\n\u001b[39;49;00m\u001b[38;5;124;43m        u = np.random.rand(d,1) \u001b[39;49m\u001b[38;5;130;43;01m\\n\u001b[39;49;00m\u001b[38;5;124;43m        res += 1/K * u.dot(u.T)\u001b[39;49m\u001b[38;5;130;43;01m\\n\u001b[39;49;00m\u001b[38;5;124;43m    return res\u001b[39;49m\u001b[38;5;130;43;01m\\n\u001b[39;49;00m\u001b[38;5;124;43mfor_loop_dot_product(20000,10)\u001b[39;49m\u001b[38;5;130;43;01m\\n\u001b[39;49;00m\u001b[38;5;124;43m'\u001b[39;49m\u001b[43m)\u001b[49m\n",
      "File \u001b[0;32m~/opt/anaconda3/lib/python3.9/site-packages/IPython/core/interactiveshell.py:2347\u001b[0m, in \u001b[0;36mInteractiveShell.run_cell_magic\u001b[0;34m(self, magic_name, line, cell)\u001b[0m\n\u001b[1;32m   2345\u001b[0m \u001b[38;5;28;01mwith\u001b[39;00m \u001b[38;5;28mself\u001b[39m\u001b[38;5;241m.\u001b[39mbuiltin_trap:\n\u001b[1;32m   2346\u001b[0m     args \u001b[38;5;241m=\u001b[39m (magic_arg_s, cell)\n\u001b[0;32m-> 2347\u001b[0m     result \u001b[38;5;241m=\u001b[39m \u001b[43mfn\u001b[49m\u001b[43m(\u001b[49m\u001b[38;5;241;43m*\u001b[39;49m\u001b[43margs\u001b[49m\u001b[43m,\u001b[49m\u001b[43m \u001b[49m\u001b[38;5;241;43m*\u001b[39;49m\u001b[38;5;241;43m*\u001b[39;49m\u001b[43mkwargs\u001b[49m\u001b[43m)\u001b[49m\n\u001b[1;32m   2348\u001b[0m \u001b[38;5;28;01mreturn\u001b[39;00m result\n",
      "File \u001b[0;32m~/opt/anaconda3/lib/python3.9/site-packages/IPython/core/magics/execution.py:1162\u001b[0m, in \u001b[0;36mExecutionMagics.timeit\u001b[0;34m(self, line, cell, local_ns)\u001b[0m\n\u001b[1;32m   1160\u001b[0m \u001b[38;5;28;01mfor\u001b[39;00m index \u001b[38;5;129;01min\u001b[39;00m \u001b[38;5;28mrange\u001b[39m(\u001b[38;5;241m0\u001b[39m, \u001b[38;5;241m10\u001b[39m):\n\u001b[1;32m   1161\u001b[0m     number \u001b[38;5;241m=\u001b[39m \u001b[38;5;241m10\u001b[39m \u001b[38;5;241m*\u001b[39m\u001b[38;5;241m*\u001b[39m index\n\u001b[0;32m-> 1162\u001b[0m     time_number \u001b[38;5;241m=\u001b[39m \u001b[43mtimer\u001b[49m\u001b[38;5;241;43m.\u001b[39;49m\u001b[43mtimeit\u001b[49m\u001b[43m(\u001b[49m\u001b[43mnumber\u001b[49m\u001b[43m)\u001b[49m\n\u001b[1;32m   1163\u001b[0m     \u001b[38;5;28;01mif\u001b[39;00m time_number \u001b[38;5;241m>\u001b[39m\u001b[38;5;241m=\u001b[39m \u001b[38;5;241m0.2\u001b[39m:\n\u001b[1;32m   1164\u001b[0m         \u001b[38;5;28;01mbreak\u001b[39;00m\n",
      "File \u001b[0;32m~/opt/anaconda3/lib/python3.9/site-packages/IPython/core/magics/execution.py:156\u001b[0m, in \u001b[0;36mTimer.timeit\u001b[0;34m(self, number)\u001b[0m\n\u001b[1;32m    154\u001b[0m gc\u001b[38;5;241m.\u001b[39mdisable()\n\u001b[1;32m    155\u001b[0m \u001b[38;5;28;01mtry\u001b[39;00m:\n\u001b[0;32m--> 156\u001b[0m     timing \u001b[38;5;241m=\u001b[39m \u001b[38;5;28;43mself\u001b[39;49m\u001b[38;5;241;43m.\u001b[39;49m\u001b[43minner\u001b[49m\u001b[43m(\u001b[49m\u001b[43mit\u001b[49m\u001b[43m,\u001b[49m\u001b[43m \u001b[49m\u001b[38;5;28;43mself\u001b[39;49m\u001b[38;5;241;43m.\u001b[39;49m\u001b[43mtimer\u001b[49m\u001b[43m)\u001b[49m\n\u001b[1;32m    157\u001b[0m \u001b[38;5;28;01mfinally\u001b[39;00m:\n\u001b[1;32m    158\u001b[0m     \u001b[38;5;28;01mif\u001b[39;00m gcold:\n",
      "File \u001b[0;32m<magic-timeit>:7\u001b[0m, in \u001b[0;36minner\u001b[0;34m(_it, _timer)\u001b[0m\n",
      "File \u001b[0;32m<magic-timeit>:5\u001b[0m, in \u001b[0;36mfor_loop_dot_product\u001b[0;34m(d, K)\u001b[0m\n",
      "\u001b[0;31mKeyboardInterrupt\u001b[0m: "
     ]
    }
   ],
   "source": [
    "%%timeit\n",
    "def for_loop_dot_product(d,K):\n",
    "    res = np.zeros((d,d)) \n",
    "    for k in range(K): \n",
    "        u = np.random.rand(d,1) \n",
    "        res += 1/K * u.dot(u.T)\n",
    "    return res\n",
    "for_loop_dot_product(20000,10)"
   ]
  },
  {
   "cell_type": "code",
   "execution_count": 15,
   "id": "d1b3d423-1d5e-443c-9ec4-d8aed8542bab",
   "metadata": {},
   "outputs": [
    {
     "ename": "KeyboardInterrupt",
     "evalue": "",
     "output_type": "error",
     "traceback": [
      "\u001b[0;31m---------------------------------------------------------------------------\u001b[0m",
      "\u001b[0;31mKeyboardInterrupt\u001b[0m                         Traceback (most recent call last)",
      "Input \u001b[0;32mIn [15]\u001b[0m, in \u001b[0;36m<cell line: 1>\u001b[0;34m()\u001b[0m\n\u001b[0;32m----> 1\u001b[0m \u001b[43mget_ipython\u001b[49m\u001b[43m(\u001b[49m\u001b[43m)\u001b[49m\u001b[38;5;241;43m.\u001b[39;49m\u001b[43mrun_cell_magic\u001b[49m\u001b[43m(\u001b[49m\u001b[38;5;124;43m'\u001b[39;49m\u001b[38;5;124;43mtimeit\u001b[39;49m\u001b[38;5;124;43m'\u001b[39;49m\u001b[43m,\u001b[49m\u001b[43m \u001b[49m\u001b[38;5;124;43m'\u001b[39;49m\u001b[38;5;124;43m'\u001b[39;49m\u001b[43m,\u001b[49m\u001b[43m \u001b[49m\u001b[38;5;124;43m'\u001b[39;49m\u001b[38;5;124;43m@njit\u001b[39;49m\u001b[38;5;130;43;01m\\n\u001b[39;49;00m\u001b[38;5;124;43mdef for_loop_dot_product(d,K):\u001b[39;49m\u001b[38;5;130;43;01m\\n\u001b[39;49;00m\u001b[38;5;124;43m    res = np.zeros((d,d)) \u001b[39;49m\u001b[38;5;130;43;01m\\n\u001b[39;49;00m\u001b[38;5;124;43m    for k in range(K): \u001b[39;49m\u001b[38;5;130;43;01m\\n\u001b[39;49;00m\u001b[38;5;124;43m        u = np.random.rand(d,1) \u001b[39;49m\u001b[38;5;130;43;01m\\n\u001b[39;49;00m\u001b[38;5;124;43m        res += 1/K * u.dot(u.T)\u001b[39;49m\u001b[38;5;130;43;01m\\n\u001b[39;49;00m\u001b[38;5;124;43m    return res\u001b[39;49m\u001b[38;5;130;43;01m\\n\u001b[39;49;00m\u001b[38;5;124;43mfor_loop_dot_product(10000,10)\u001b[39;49m\u001b[38;5;130;43;01m\\n\u001b[39;49;00m\u001b[38;5;124;43m'\u001b[39;49m\u001b[43m)\u001b[49m\n",
      "File \u001b[0;32m~/opt/anaconda3/lib/python3.9/site-packages/IPython/core/interactiveshell.py:2347\u001b[0m, in \u001b[0;36mInteractiveShell.run_cell_magic\u001b[0;34m(self, magic_name, line, cell)\u001b[0m\n\u001b[1;32m   2345\u001b[0m \u001b[38;5;28;01mwith\u001b[39;00m \u001b[38;5;28mself\u001b[39m\u001b[38;5;241m.\u001b[39mbuiltin_trap:\n\u001b[1;32m   2346\u001b[0m     args \u001b[38;5;241m=\u001b[39m (magic_arg_s, cell)\n\u001b[0;32m-> 2347\u001b[0m     result \u001b[38;5;241m=\u001b[39m \u001b[43mfn\u001b[49m\u001b[43m(\u001b[49m\u001b[38;5;241;43m*\u001b[39;49m\u001b[43margs\u001b[49m\u001b[43m,\u001b[49m\u001b[43m \u001b[49m\u001b[38;5;241;43m*\u001b[39;49m\u001b[38;5;241;43m*\u001b[39;49m\u001b[43mkwargs\u001b[49m\u001b[43m)\u001b[49m\n\u001b[1;32m   2348\u001b[0m \u001b[38;5;28;01mreturn\u001b[39;00m result\n",
      "File \u001b[0;32m~/opt/anaconda3/lib/python3.9/site-packages/IPython/core/magics/execution.py:1166\u001b[0m, in \u001b[0;36mExecutionMagics.timeit\u001b[0;34m(self, line, cell, local_ns)\u001b[0m\n\u001b[1;32m   1163\u001b[0m         \u001b[38;5;28;01mif\u001b[39;00m time_number \u001b[38;5;241m>\u001b[39m\u001b[38;5;241m=\u001b[39m \u001b[38;5;241m0.2\u001b[39m:\n\u001b[1;32m   1164\u001b[0m             \u001b[38;5;28;01mbreak\u001b[39;00m\n\u001b[0;32m-> 1166\u001b[0m all_runs \u001b[38;5;241m=\u001b[39m \u001b[43mtimer\u001b[49m\u001b[38;5;241;43m.\u001b[39;49m\u001b[43mrepeat\u001b[49m\u001b[43m(\u001b[49m\u001b[43mrepeat\u001b[49m\u001b[43m,\u001b[49m\u001b[43m \u001b[49m\u001b[43mnumber\u001b[49m\u001b[43m)\u001b[49m\n\u001b[1;32m   1167\u001b[0m best \u001b[38;5;241m=\u001b[39m \u001b[38;5;28mmin\u001b[39m(all_runs) \u001b[38;5;241m/\u001b[39m number\n\u001b[1;32m   1168\u001b[0m worst \u001b[38;5;241m=\u001b[39m \u001b[38;5;28mmax\u001b[39m(all_runs) \u001b[38;5;241m/\u001b[39m number\n",
      "File \u001b[0;32m~/opt/anaconda3/lib/python3.9/timeit.py:205\u001b[0m, in \u001b[0;36mTimer.repeat\u001b[0;34m(self, repeat, number)\u001b[0m\n\u001b[1;32m    203\u001b[0m r \u001b[38;5;241m=\u001b[39m []\n\u001b[1;32m    204\u001b[0m \u001b[38;5;28;01mfor\u001b[39;00m i \u001b[38;5;129;01min\u001b[39;00m \u001b[38;5;28mrange\u001b[39m(repeat):\n\u001b[0;32m--> 205\u001b[0m     t \u001b[38;5;241m=\u001b[39m \u001b[38;5;28;43mself\u001b[39;49m\u001b[38;5;241;43m.\u001b[39;49m\u001b[43mtimeit\u001b[49m\u001b[43m(\u001b[49m\u001b[43mnumber\u001b[49m\u001b[43m)\u001b[49m\n\u001b[1;32m    206\u001b[0m     r\u001b[38;5;241m.\u001b[39mappend(t)\n\u001b[1;32m    207\u001b[0m \u001b[38;5;28;01mreturn\u001b[39;00m r\n",
      "File \u001b[0;32m~/opt/anaconda3/lib/python3.9/site-packages/IPython/core/magics/execution.py:156\u001b[0m, in \u001b[0;36mTimer.timeit\u001b[0;34m(self, number)\u001b[0m\n\u001b[1;32m    154\u001b[0m gc\u001b[38;5;241m.\u001b[39mdisable()\n\u001b[1;32m    155\u001b[0m \u001b[38;5;28;01mtry\u001b[39;00m:\n\u001b[0;32m--> 156\u001b[0m     timing \u001b[38;5;241m=\u001b[39m \u001b[38;5;28;43mself\u001b[39;49m\u001b[38;5;241;43m.\u001b[39;49m\u001b[43minner\u001b[49m\u001b[43m(\u001b[49m\u001b[43mit\u001b[49m\u001b[43m,\u001b[49m\u001b[43m \u001b[49m\u001b[38;5;28;43mself\u001b[39;49m\u001b[38;5;241;43m.\u001b[39;49m\u001b[43mtimer\u001b[49m\u001b[43m)\u001b[49m\n\u001b[1;32m    157\u001b[0m \u001b[38;5;28;01mfinally\u001b[39;00m:\n\u001b[1;32m    158\u001b[0m     \u001b[38;5;28;01mif\u001b[39;00m gcold:\n",
      "File \u001b[0;32m<magic-timeit>:8\u001b[0m, in \u001b[0;36minner\u001b[0;34m(_it, _timer)\u001b[0m\n",
      "File \u001b[0;32m~/opt/anaconda3/lib/python3.9/site-packages/numba/core/serialize.py:29\u001b[0m, in \u001b[0;36m_numba_unpickle\u001b[0;34m(address, bytedata, hashed)\u001b[0m\n\u001b[1;32m     25\u001b[0m \u001b[38;5;66;03m# Keep unpickled object via `numba_unpickle` alive.\u001b[39;00m\n\u001b[1;32m     26\u001b[0m _unpickled_memo \u001b[38;5;241m=\u001b[39m {}\n\u001b[0;32m---> 29\u001b[0m \u001b[38;5;28;01mdef\u001b[39;00m \u001b[38;5;21m_numba_unpickle\u001b[39m(address, bytedata, hashed):\n\u001b[1;32m     30\u001b[0m     \u001b[38;5;124;03m\"\"\"Used by `numba_unpickle` from _helperlib.c\u001b[39;00m\n\u001b[1;32m     31\u001b[0m \n\u001b[1;32m     32\u001b[0m \u001b[38;5;124;03m    Parameters\u001b[39;00m\n\u001b[0;32m   (...)\u001b[0m\n\u001b[1;32m     41\u001b[0m \u001b[38;5;124;03m        unpickled object\u001b[39;00m\n\u001b[1;32m     42\u001b[0m \u001b[38;5;124;03m    \"\"\"\u001b[39;00m\n\u001b[1;32m     43\u001b[0m     key \u001b[38;5;241m=\u001b[39m (address, hashed)\n",
      "\u001b[0;31mKeyboardInterrupt\u001b[0m: "
     ]
    }
   ],
   "source": [
    "%%timeit\n",
    "@njit\n",
    "def for_loop_dot_product(d,K):\n",
    "    res = np.zeros((d,d)) \n",
    "    for k in range(K): \n",
    "        u = np.random.rand(d,1) \n",
    "        res += 1/K * u.dot(u.T)\n",
    "    return res\n",
    "for_loop_dot_product(10000,10)"
   ]
  },
  {
   "cell_type": "code",
   "execution_count": 14,
   "id": "381ed7e5-a191-4049-87e7-990e823b4611",
   "metadata": {},
   "outputs": [
    {
     "name": "stdout",
     "output_type": "stream",
     "text": [
      "4.73 s ± 195 ms per loop (mean ± std. dev. of 7 runs, 1 loop each)\n"
     ]
    }
   ],
   "source": [
    "%%timeit\n",
    "@njit(parallel=True)\n",
    "def for_loop_dot_product(d,K):\n",
    "    res = np.zeros((d,d)) \n",
    "    for k in range(K): \n",
    "        u = np.random.rand(d,1) \n",
    "        res += 1/K * u.dot(u.T)\n",
    "    return res\n",
    "for_loop_dot_product(10000,10)"
   ]
  },
  {
   "cell_type": "code",
   "execution_count": 12,
   "id": "3c5825c3-16ba-4d4a-8469-6246ae117c1a",
   "metadata": {},
   "outputs": [
    {
     "data": {
      "text/plain": [
       "380"
      ]
     },
     "execution_count": 12,
     "metadata": {},
     "output_type": "execute_result"
    }
   ],
   "source": [
    "len(np.random.rand(d1,1))"
   ]
  },
  {
   "cell_type": "code",
   "execution_count": 19,
   "id": "51fbd517-cea9-4a94-8ab1-02cc9f35dd05",
   "metadata": {},
   "outputs": [
    {
     "data": {
      "text/plain": [
       "(380, 380)"
      ]
     },
     "execution_count": 19,
     "metadata": {},
     "output_type": "execute_result"
    }
   ],
   "source": [
    "u.dot(u.T)"
   ]
  },
  {
   "cell_type": "code",
   "execution_count": 20,
   "id": "e408c660-b892-4ba9-a89c-715721ba6e24",
   "metadata": {},
   "outputs": [
    {
     "data": {
      "text/plain": [
       "numpy.ndarray"
      ]
     },
     "execution_count": 20,
     "metadata": {},
     "output_type": "execute_result"
    }
   ],
   "source": [
    "type(res)"
   ]
  },
  {
   "cell_type": "code",
   "execution_count": null,
   "id": "182b4ad4-8e74-4625-bbbd-10a1555c6886",
   "metadata": {},
   "outputs": [],
   "source": []
  },
  {
   "cell_type": "code",
   "execution_count": 17,
   "id": "0a6b97e4-b59c-4e68-93fa-8e715d2b6630",
   "metadata": {},
   "outputs": [
    {
     "name": "stdout",
     "output_type": "stream",
     "text": [
      "[[0.07446015 0.08408544 0.02453807 ... 0.06821008 0.00368802 0.05343473]\n",
      " [0.08408544 0.09495496 0.02771005 ... 0.07702744 0.00416476 0.06034211]\n",
      " [0.02453807 0.02771005 0.00808643 ... 0.02247839 0.00121537 0.01760922]\n",
      " ...\n",
      " [0.06821008 0.07702744 0.02247839 ... 0.06248463 0.00337845 0.0489495 ]\n",
      " [0.00368802 0.00416476 0.00121537 ... 0.00337845 0.00018267 0.00264663]\n",
      " [0.05343473 0.06034211 0.01760922 ... 0.0489495  0.00264663 0.03834629]]\n",
      "[[0.08976948 0.11099893 0.02522986 ... 0.09412189 0.01508634 0.06999855]\n",
      " [0.11099893 0.14226835 0.02892619 ... 0.12257988 0.02420278 0.08946098]\n",
      " [0.02522986 0.02892619 0.00811769 ... 0.02364927 0.00173043 0.01835769]\n",
      " ...\n",
      " [0.09412189 0.12257988 0.02364927 ... 0.10634168 0.02267069 0.07698461]\n",
      " [0.01508634 0.02420278 0.00173043 ... 0.02267069 0.00866911 0.01497896]\n",
      " [0.06999855 0.08946098 0.01835769 ... 0.07698461 0.01497896 0.0562674 ]]\n",
      "[[0.14404784 0.16505876 0.03665134 ... 0.10901006 0.08407615 0.10133133]\n",
      " [0.16505876 0.19611052 0.04030169 ... 0.13740811 0.09291483 0.12066761]\n",
      " [0.03665134 0.04030169 0.01052105 ... 0.0267821  0.01624756 0.02495087]\n",
      " ...\n",
      " [0.10901006 0.13740811 0.0267821  ... 0.1104254  0.0415941  0.08557897]\n",
      " [0.08407615 0.09291483 0.01624756 ... 0.0415941  0.09635773 0.05480409]\n",
      " [0.10133133 0.12066761 0.02495087 ... 0.08557897 0.05480409 0.07435459]]\n",
      "[[0.16087948 0.18758951 0.06517885 ... 0.11226973 0.12058245 0.12430128]\n",
      " [0.18758951 0.22627008 0.07848849 ... 0.14177149 0.14178199 0.15141507]\n",
      " [0.06517885 0.07848849 0.0588716  ... 0.03230684 0.07812114 0.06388204]\n",
      " ...\n",
      " [0.11226973 0.14177149 0.03230684 ... 0.11105668 0.04866404 0.09002741]\n",
      " [0.12058245 0.14178199 0.07812114 ... 0.04866404 0.17553657 0.10462382]\n",
      " [0.12430128 0.15141507 0.06388204 ... 0.09002741 0.10462382 0.10570142]]\n",
      "[[0.20004072 0.20547125 0.12268456 ... 0.17292052 0.13554795 0.15931084]\n",
      " [0.20547125 0.23443521 0.10474665 ... 0.16946575 0.14861551 0.16740108]\n",
      " [0.12268456 0.10474665 0.14331495 ... 0.12136853 0.10009699 0.11529128]\n",
      " ...\n",
      " [0.17292052 0.16946575 0.12136853 ... 0.20498931 0.07184178 0.1442483 ]\n",
      " [0.13554795 0.14861551 0.10009699 ... 0.07184178 0.18125565 0.11800274]\n",
      " [0.15931084 0.16740108 0.11529128 ... 0.1442483  0.11800274 0.13699944]]\n",
      "[[0.21812811 0.21520674 0.13700442 ... 0.20598259 0.17406079 0.16152272]\n",
      " [0.21520674 0.23967531 0.11245428 ... 0.18726133 0.16934495 0.16859162]\n",
      " [0.13700442 0.11245428 0.15465204 ... 0.14754391 0.13058776 0.11704244]\n",
      " ...\n",
      " [0.20598259 0.18726133 0.14754391 ... 0.26542371 0.14223968 0.14829142]\n",
      " [0.17406079 0.16934495 0.13058776 ... 0.14223968 0.26325967 0.12271243]\n",
      " [0.16152272 0.16859162 0.11704244 ... 0.14829142 0.12271243 0.13726992]]\n",
      "[[0.21897177 0.21958322 0.14286725 ... 0.21480819 0.17977645 0.16707731]\n",
      " [0.21958322 0.26237821 0.14286758 ... 0.23304392 0.19899484 0.19740594]\n",
      " [0.14286725 0.14286758 0.19539438 ... 0.20887529 0.17030742 0.15564274]\n",
      " ...\n",
      " [0.21480819 0.23304392 0.20887529 ... 0.35774874 0.20203156 0.20639829]\n",
      " [0.17977645 0.19899484 0.17030742 ... 0.20203156 0.30198232 0.16034382]\n",
      " [0.16707731 0.19740594 0.15564274 ... 0.20639829 0.16034382 0.17384081]]\n",
      "[[0.24384879 0.24475069 0.19196305 ... 0.23066657 0.21789989 0.21422756]\n",
      " [0.24475069 0.28783953 0.1925366  ... 0.24908745 0.23756339 0.24510669]\n",
      " [0.19196305 0.1925366  0.2922869  ... 0.24017243 0.24554555 0.24869564]\n",
      " ...\n",
      " [0.23066657 0.24908745 0.24017243 ... 0.367858   0.22633415 0.2364552 ]\n",
      " [0.21789989 0.23756339 0.24554555 ... 0.22633415 0.36040557 0.23260044]\n",
      " [0.21422756 0.24510669 0.24869564 ... 0.2364552  0.23260044 0.26320625]]\n",
      "[[0.24794249 0.24632415 0.19469514 ... 0.23731169 0.23524173 0.2301715 ]\n",
      " [0.24632415 0.2884443  0.19358671 ... 0.25164158 0.24422891 0.25123491]\n",
      " [0.19469514 0.19358671 0.29411027 ... 0.24460732 0.25711931 0.25933645]\n",
      " ...\n",
      " [0.23731169 0.25164158 0.24460732 ... 0.37864474 0.25448443 0.26233632]\n",
      " [0.23524173 0.24422891 0.25711931 ... 0.25448443 0.43386963 0.30014265]\n",
      " [0.2301715  0.25123491 0.25933645 ... 0.26233632 0.30014265 0.32530395]]\n",
      "[[0.26229994 0.28217412 0.19812059 ... 0.27321253 0.27133862 0.24155657]\n",
      " [0.28217412 0.37796023 0.20213991 ... 0.34128454 0.33436139 0.27966298]\n",
      " [0.19812059 0.20213991 0.29492752 ... 0.25317266 0.26573143 0.26205274]\n",
      " ...\n",
      " [0.27321253 0.34128454 0.25317266 ... 0.46841491 0.34474481 0.29080472]\n",
      " [0.27133862 0.33436139 0.26573143 ... 0.34474481 0.52462291 0.32876651]\n",
      " [0.24155657 0.27966298 0.26205274 ... 0.29080472 0.32876651 0.33433201]]\n"
     ]
    }
   ],
   "source": [
    "res = np.zeros((d,d)) \n",
    "for k in range(K): \n",
    "    u = np.random.rand(d,1) \n",
    "    res += 1/K * u.dot(u.T)\n",
    "    print(res)"
   ]
  },
  {
   "cell_type": "code",
   "execution_count": 16,
   "id": "b2d32633-5a95-4ef4-b485-1b3af8d2788a",
   "metadata": {},
   "outputs": [
    {
     "data": {
      "text/plain": [
       "10"
      ]
     },
     "execution_count": 16,
     "metadata": {},
     "output_type": "execute_result"
    }
   ],
   "source": [
    "K"
   ]
  },
  {
   "cell_type": "code",
   "execution_count": 13,
   "id": "89ae4987-21b0-4150-a9f0-6949f27a3bb3",
   "metadata": {},
   "outputs": [],
   "source": [
    "u = np.random.rand(d,1) "
   ]
  },
  {
   "cell_type": "code",
   "execution_count": 15,
   "id": "8eb25f2a-4962-4bae-9eb3-5c98c55b2ad6",
   "metadata": {},
   "outputs": [],
   "source": [
    "res = np.zeros((d1,d2))"
   ]
  },
  {
   "cell_type": "code",
   "execution_count": 17,
   "id": "5ab83049-6619-4294-8166-9f79c714bff0",
   "metadata": {},
   "outputs": [
    {
     "data": {
      "text/plain": [
       "(380, 380)"
      ]
     },
     "execution_count": 17,
     "metadata": {},
     "output_type": "execute_result"
    }
   ],
   "source": [
    "res.shape"
   ]
  },
  {
   "cell_type": "code",
   "execution_count": 18,
   "id": "2ebd3f9b-c1da-42a0-8584-31fea478e32a",
   "metadata": {},
   "outputs": [
    {
     "data": {
      "text/plain": [
       "array([[0., 0., 0., ..., 0., 0., 0.],\n",
       "       [0., 0., 0., ..., 0., 0., 0.],\n",
       "       [0., 0., 0., ..., 0., 0., 0.],\n",
       "       ...,\n",
       "       [0., 0., 0., ..., 0., 0., 0.],\n",
       "       [0., 0., 0., ..., 0., 0., 0.],\n",
       "       [0., 0., 0., ..., 0., 0., 0.]])"
      ]
     },
     "execution_count": 18,
     "metadata": {},
     "output_type": "execute_result"
    }
   ],
   "source": [
    "res"
   ]
  },
  {
   "cell_type": "code",
   "execution_count": 12,
   "id": "d82a24f2-5ab4-4a4f-a389-5a9e88d7445b",
   "metadata": {},
   "outputs": [
    {
     "name": "stdout",
     "output_type": "stream",
     "text": [
      "380\n",
      "380\n"
     ]
    }
   ],
   "source": [
    "print(d1)\n",
    "print(d2)"
   ]
  },
  {
   "cell_type": "code",
   "execution_count": 11,
   "id": "3efe6dc2-89a4-4766-bb78-5835b7bf6b8c",
   "metadata": {},
   "outputs": [
    {
     "name": "stdout",
     "output_type": "stream",
     "text": [
      "0\n",
      "100\n",
      "next\n",
      "1\n",
      "120\n",
      "next\n",
      "2\n",
      "140\n",
      "next\n",
      "3\n",
      "160\n",
      "next\n",
      "4\n",
      "180\n",
      "next\n",
      "5\n",
      "200\n",
      "next\n",
      "6\n",
      "220\n",
      "next\n",
      "7\n",
      "240\n",
      "next\n",
      "8\n",
      "260\n",
      "next\n",
      "9\n",
      "280\n",
      "next\n",
      "10\n",
      "300\n",
      "next\n",
      "11\n",
      "320\n",
      "next\n",
      "12\n",
      "340\n",
      "next\n",
      "13\n",
      "360\n",
      "next\n",
      "14\n",
      "380\n",
      "next\n"
     ]
    }
   ],
   "source": [
    "for (i,d) in enumerate(range(beg,end,step)):\n"
   ]
  },
  {
   "cell_type": "code",
   "execution_count": 2,
   "id": "b32b39d0",
   "metadata": {},
   "outputs": [],
   "source": [
    "def generate_low_rank_samples(d1,d2,K,n):\n",
    "    '''\n",
    "    The goal of this function is to generate two low-rank matrices with dimensions d1 and d2, \n",
    "    using a random combination of vectors u and v.\n",
    "    \n",
    "    parameters:\n",
    "    ----\n",
    "    d1: int\n",
    "    size of the matrice \n",
    "    \n",
    "    d2: int\n",
    "    size of the matrice \n",
    "    \n",
    "    K: int\n",
    "    loop repetition\n",
    "    \n",
    "    n: int\n",
    "    sample size\n",
    "    \n",
    "    Return:\n",
    "    ----\n",
    "    \n",
    "    res,Y1/n, Y2/n : it is returned in tuple format\n",
    "    \n",
    "    res: numpy.ndarray\n",
    "    a matrix of size d1 by d2\n",
    "    \n",
    "    Y1/n: numpy.ndarray\n",
    "    a matrix obtained by generating a multinomial distribution with n samples \n",
    "    and a probability distribution derived from a low-rank matrix\n",
    "    \n",
    "    Y2/n: numpy.ndarray\n",
    "    a matrix obtained by generating a multinomial distribution with n samples \n",
    "    and a probability distribution derived from a low-rank matrix\n",
    "    \n",
    "    '''\n",
    "    res = np.zeros((d1,d2)) \n",
    "    for k in range(K): \n",
    "        u = np.random.rand(d1,1) \n",
    "        v = np.random.rand(d2,1)\n",
    "        res += 1/K * u.dot(v.T)\n",
    "    P = res/np.sum(res) \n",
    "    p = np.reshape(P,d1*d2)\n",
    "    X  = np.random.multinomial(n,p)\n",
    "    Y1 = np.reshape(X,(d1,d2)) \n",
    "    X  = np.random.multinomial(n,p)\n",
    "    Y2 = np.reshape(X,(d1,d2)) \n",
    "    \n",
    "    return(res,Y1/n, Y2/n)"
   ]
  },
  {
   "cell_type": "code",
   "execution_count": null,
   "id": "fd909f1b-b2ae-493d-b517-28a6487895d9",
   "metadata": {},
   "outputs": [],
   "source": []
  },
  {
   "cell_type": "markdown",
   "id": "12498004",
   "metadata": {},
   "source": [
    "## III - generate_dirichlet_low_rank_samples <a class=\"anchor\" id=\"third-bullet\"></a>"
   ]
  },
  {
   "cell_type": "code",
   "execution_count": 24,
   "id": "39892006",
   "metadata": {},
   "outputs": [],
   "source": [
    "def generate_dirichlet_low_rank_samples(d1,d2,K,n,diric1,diric2):\n",
    "    '''\n",
    "    The goal of this function is to generate two low-rank matrices with dimensions d1 and d2, \n",
    "    using a random combination of vectors u and v, using Dirichlet distribution.\n",
    "    \n",
    "    parameters:\n",
    "    ----\n",
    "    d1: int\n",
    "    size of the matrice  \n",
    "    \n",
    "    d2: int\n",
    "    size of the matrice \n",
    "    \n",
    "    K: int\n",
    "    loop repetition\n",
    "    \n",
    "    n: int\n",
    "    sample size\n",
    "    \n",
    "    diric1: float\n",
    "    to apply dirichlet distribution\n",
    "    \n",
    "    diric2: float\n",
    "    to apply dirichlet distribution\n",
    "    \n",
    "    Return:\n",
    "    ----\n",
    "    \n",
    "    res,Y1/n, Y2/n : it is returned in tuple format\n",
    "    \n",
    "    res: numpy.ndarray\n",
    "    a matrix of size d1 by d2\n",
    "    \n",
    "    Y1/n: numpy.ndarray\n",
    "    a matrix obtained by generating a multinomial distribution with n samples \n",
    "    and a probability distribution derived from a low-rank matrix. Y1/n is used for scaling\n",
    "    \n",
    "    Y2/n: numpy.ndarray\n",
    "    a matrix obtained by generating a multinomial distribution with n samples \n",
    "    and a probability distribution derived from a low-rank matrix. Y2/n is used for scaling\n",
    "    \n",
    "    '''\n",
    "    res = np.zeros((d1,d2))\n",
    "    for k in range(K):\n",
    "        u = np.random.dirichlet(diric1*np.ones(d1),1)\n",
    "        v = np.random.dirichlet(diric2*np.ones(d2),1)\n",
    "        res += 1/K * u.T.dot(v)\n",
    "    p = np.reshape(res,d1*d2)\n",
    "    X  = np.random.multinomial(n,p)\n",
    "    Y1 = np.reshape(X,(d1,d2))\n",
    "    X  = np.random.multinomial(n,p)\n",
    "    Y2 = np.reshape(X,(d1,d2))\n",
    "    \n",
    "    return(res,Y1/n, Y2/n)"
   ]
  },
  {
   "cell_type": "code",
   "execution_count": null,
   "id": "7ed92506-f9c7-4094-943b-08c0f0de22da",
   "metadata": {},
   "outputs": [],
   "source": [
    "res = np.zeros((d1,d2))\n",
    "for k in range(K):\n",
    "        u = np.random.dirichlet(diric1*np.ones(d1),1)"
   ]
  },
  {
   "cell_type": "markdown",
   "id": "36f5da5e",
   "metadata": {},
   "source": [
    "## IV - our_algo <a class=\"anchor\" id=\"fourth-bullet\"></a>"
   ]
  },
  {
   "cell_type": "code",
   "execution_count": 25,
   "id": "322e5aa6",
   "metadata": {},
   "outputs": [],
   "source": [
    "def our_algo(n,Y1,Y2,alpha,cstar,Cbar):\n",
    "    '''\n",
    "    The goal of this function is to return low rank matrix using singular value decomposition and thresholding\n",
    "    \n",
    "    parameters:\n",
    "    ----\n",
    "    \n",
    "    n: int\n",
    "    sample size\n",
    "    \n",
    "    Y1: numpy.ndarray\n",
    "    a matrix obtained by generating a multinomial distribution with n samples \n",
    "    and a probability distribution derived from a low-rank matrix\n",
    "    \n",
    "    Y2: numpy.ndarray\n",
    "    a matrix obtained by generating a multinomial distribution with n samples \n",
    "    and a probability distribution derived from a low-rank matrix\n",
    "    \n",
    "    alpha: float\n",
    "    tuning parameter\n",
    "    \n",
    "    cstar: float\n",
    "    a constant\n",
    "    \n",
    "    Cbar: float\n",
    "    tuning parameter\n",
    "    \n",
    "    Return:\n",
    "    ----\n",
    "    \n",
    "    res/np.sum(res): numpy.ndarray\n",
    "    for scaling the res matrix\n",
    "\n",
    "    \n",
    "    '''\n",
    "    (d1,d2) = np.shape(Y1) \n",
    "    d = max(d1,d2) \n",
    "\n",
    "    if (n <= d*np.log(d)):\n",
    "        return((Y1+Y2)/2)\n",
    "      \n",
    "    else:\n",
    "        res = np.zeros((d1,d2))\n",
    "        T = int(np.log(d)/np.log(2))\n",
    "        p = np.sum(Y1, axis=1)\n",
    "        q = np.sum(Y1, axis=0)\n",
    "\n",
    "        for t in range(T+1): \n",
    "            if (t<T):\n",
    "                I = np.argwhere((p <= 2**(-t)) & (p > 2**(-t-1)))\n",
    "\n",
    "            else: \n",
    "                I = np.argwhere((p <= 2**(-t)))\n",
    "\n",
    "            for u in range(T+1): \n",
    "                if (u<T):\n",
    "                    J = np.argwhere((q <= 2**(-u)) & (q > 2**(-u-1))) \n",
    "                else: \n",
    "                    J = np.argwhere(q <= 2**(-u))\n",
    "                #M = np.zeros(np.shape(Y2))  \n",
    "                M = np.zeros((len(I),len(J))) \n",
    "                #for i in range(len(I)): \n",
    "                #    for j in range(len(J)): \n",
    "                #        M[i,j] = Y2[I[i],J[j]]\n",
    "                row_indices = np.zeros(Y2.shape[0], dtype=bool)\n",
    "                row_indices[I] = True\n",
    "                col_indices = np.zeros(Y2.shape[1], dtype=bool)\n",
    "                col_indices[J] = True\n",
    "                M = Y2[row_indices, :][:, col_indices]\n",
    "\n",
    "                if (np.sum(M) < 2*Cbar*alpha*np.log(d)/(n*np.log(2))):\n",
    "\n",
    "                    for i in range(len(I)): # +1\n",
    "                        for j in range(len(J)):\n",
    "                            res[I[i],J[j]] = Y2[I[i],J[j]]  \n",
    "\n",
    "                else:\n",
    "                    #print((t,u))\n",
    "                    tau = np.log(d) * np.sqrt(cstar * 2**(1-min(t,u))/n)\n",
    "                    U,s,Vh = np.linalg.svd(M)\n",
    "                    l = len(s[s>=tau])\n",
    "                    #l = 5\n",
    "                    H = np.dot(U[:,:l]*s[:l], Vh[:l,:])\n",
    "                    for i in range(len(I)):  # +2\n",
    "                        for j in range(len(J)):\n",
    "                            res[I[i],J[j]] = H[i,j]\n",
    "\n",
    "\n",
    "        return(res/np.sum(res))"
   ]
  },
  {
   "cell_type": "markdown",
   "id": "ae7ea124",
   "metadata": {},
   "source": [
    "## V - loss_calculation  <a class=\"anchor\" id=\"fifth-bullet\"></a>"
   ]
  },
  {
   "cell_type": "code",
   "execution_count": 26,
   "id": "12c6f542",
   "metadata": {},
   "outputs": [],
   "source": [
    "def loss_calculation():\n",
    "    '''\n",
    "    The goal of this function is to is to evaluate the performance of an algorithm for matrix completion\n",
    "    in the context of low-rank matrix recovery.\n",
    "    \n",
    "    Return:\n",
    "    ----\n",
    "    error_low_rank: numpy.ndarray\n",
    "    measure the error difference\n",
    "    \n",
    "    error_empirical: numpy.ndarray\n",
    "    measure the error difference\n",
    "    \n",
    "\n",
    "    '''\n",
    "    \n",
    "    K = 10\n",
    "    Cbar = .5\n",
    "    alpha = .1\n",
    "    cstar= alpha/10\n",
    "    beg = 100\n",
    "    end = 400\n",
    "    step = 20\n",
    "\n",
    "    error_low_rank  = np.zeros(len(range(beg,end,step)))\n",
    "    error_empirical = np.zeros(len(range(beg,end,step)))\n",
    "\n",
    "    for (i,d) in enumerate(range(beg,end,step)):\n",
    "        d1 = d\n",
    "        d2 = d\n",
    "        n = int(10000*d*np.log(d)**2)\n",
    "        diric1 = d1/(3*K)\n",
    "        diric2 = d2/(3*K)\n",
    "        (P,Y1,Y2) = generate_dirichlet_low_rank_samples(d1,d2,K,n, diric1,diric2)\n",
    "        #(P,Y1,Y2) = generate_low_rank_samples(d1,d2,K,n, diric1,diric2)\n",
    "        P_hat = our_algo(n,Y1,Y2,alpha,cstar,Cbar)\n",
    "        error_low_rank[i] = np.sum(np.abs(P-P_hat))\n",
    "        error_empirical[i] = np.sum(np.abs(P-Y2))\n",
    "    return error_low_rank, error_empirical\n",
    "\n",
    "error_low_rank, error_empirical = loss_calculation()"
   ]
  },
  {
   "cell_type": "code",
   "execution_count": 27,
   "id": "a5659f89-857c-4520-97de-5855bc4f8181",
   "metadata": {},
   "outputs": [],
   "source": [
    "K = 10\n",
    "Cbar = .5\n",
    "alpha = .1\n",
    "cstar= alpha/10\n",
    "beg = 100\n",
    "end = 400\n",
    "step = 20\n",
    "\n",
    "error_low_rank  = np.zeros(len(range(beg,end,step)))\n",
    "error_empirical = np.zeros(len(range(beg,end,step)))\n",
    "\n",
    "for (i,d) in enumerate(range(beg,end,step)):\n",
    "    d1 = d\n",
    "    d2 = d\n",
    "    n = int(10000*d*np.log(d)**2)\n",
    "    diric1 = d1/(3*K)\n",
    "    diric2 = d2/(3*K)\n",
    "    (P,Y1,Y2) = generate_dirichlet_low_rank_samples(d1,d2,K,n, diric1,diric2)\n",
    "    #(P,Y1,Y2) = generate_low_rank_samples(d1,d2,K,n, diric1,diric2)\n",
    "    P_hat = our_algo(n,Y1,Y2,alpha,cstar,Cbar)\n",
    "    error_low_rank[i] = np.sum(np.abs(P-P_hat))\n",
    "    error_empirical[i] = np.sum(np.abs(P-Y2))"
   ]
  },
  {
   "cell_type": "code",
   "execution_count": 29,
   "id": "bd7920d1-7dc0-446f-975a-9a12ec8e7216",
   "metadata": {},
   "outputs": [
    {
     "data": {
      "text/plain": [
       "(380, 380)"
      ]
     },
     "execution_count": 29,
     "metadata": {},
     "output_type": "execute_result"
    }
   ],
   "source": [
    "Y1.shape"
   ]
  },
  {
   "cell_type": "code",
   "execution_count": 32,
   "id": "4d27b137-c326-406d-afda-a778d0e691a5",
   "metadata": {},
   "outputs": [
    {
     "ename": "AttributeError",
     "evalue": "'tuple' object has no attribute 'shape'",
     "output_type": "error",
     "traceback": [
      "\u001b[0;31m---------------------------------------------------------------------------\u001b[0m",
      "\u001b[0;31mAttributeError\u001b[0m                            Traceback (most recent call last)",
      "Input \u001b[0;32mIn [32]\u001b[0m, in \u001b[0;36m<cell line: 1>\u001b[0;34m()\u001b[0m\n\u001b[0;32m----> 1\u001b[0m \u001b[43mgenerate_dirichlet_low_rank_samples\u001b[49m\u001b[43m(\u001b[49m\u001b[43md1\u001b[49m\u001b[43m,\u001b[49m\u001b[43md2\u001b[49m\u001b[43m,\u001b[49m\u001b[43mK\u001b[49m\u001b[43m,\u001b[49m\u001b[43mn\u001b[49m\u001b[43m,\u001b[49m\u001b[43m \u001b[49m\u001b[43mdiric1\u001b[49m\u001b[43m,\u001b[49m\u001b[43mdiric2\u001b[49m\u001b[43m)\u001b[49m\u001b[38;5;241;43m.\u001b[39;49m\u001b[43mshape\u001b[49m\n",
      "\u001b[0;31mAttributeError\u001b[0m: 'tuple' object has no attribute 'shape'"
     ]
    }
   ],
   "source": [
    "generate_dirichlet_low_rank_samples(d1,d2,K,n, diric1,diric2).shape"
   ]
  },
  {
   "cell_type": "code",
   "execution_count": 30,
   "id": "73caaa0d-0325-4e42-befd-4564f1f87e97",
   "metadata": {},
   "outputs": [
    {
     "data": {
      "text/plain": [
       "(380, 380)"
      ]
     },
     "execution_count": 30,
     "metadata": {},
     "output_type": "execute_result"
    }
   ],
   "source": [
    "Y2.shape"
   ]
  },
  {
   "cell_type": "code",
   "execution_count": 6,
   "id": "b45eb574",
   "metadata": {},
   "outputs": [
    {
     "data": {
      "text/plain": [
       "array([0.01743832, 0.01824569, 0.01899521, 0.01981143, 0.02054256,\n",
       "       0.02132932, 0.02180567, 0.02242206, 0.0230209 , 0.02351987,\n",
       "       0.02417923, 0.02469092, 0.02519046, 0.02560164, 0.02610438])"
      ]
     },
     "execution_count": 6,
     "metadata": {},
     "output_type": "execute_result"
    }
   ],
   "source": [
    "error_empirical"
   ]
  },
  {
   "cell_type": "code",
   "execution_count": 7,
   "id": "cc7c4526",
   "metadata": {},
   "outputs": [
    {
     "data": {
      "text/plain": [
       "array([0.01649803, 0.01675623, 0.01637163, 0.01871589, 0.01915634,\n",
       "       0.01957766, 0.01955585, 0.01962921, 0.01613969, 0.01915771,\n",
       "       0.02198956, 0.02273926, 0.02293212, 0.02306473, 0.0232231 ])"
      ]
     },
     "execution_count": 7,
     "metadata": {},
     "output_type": "execute_result"
    }
   ],
   "source": [
    "error_low_rank"
   ]
  },
  {
   "cell_type": "code",
   "execution_count": 23,
   "id": "94b037b6",
   "metadata": {},
   "outputs": [
    {
     "ename": "NameError",
     "evalue": "name 'generate_dirichlet_low_rank_samples' is not defined",
     "output_type": "error",
     "traceback": [
      "\u001b[0;31m---------------------------------------------------------------------------\u001b[0m",
      "\u001b[0;31mNameError\u001b[0m                                 Traceback (most recent call last)",
      "Input \u001b[0;32mIn [23]\u001b[0m, in \u001b[0;36m<cell line: 11>\u001b[0;34m()\u001b[0m\n\u001b[1;32m     15\u001b[0m diric1 \u001b[38;5;241m=\u001b[39m d1\u001b[38;5;241m/\u001b[39m(\u001b[38;5;241m3\u001b[39m\u001b[38;5;241m*\u001b[39mK)\n\u001b[1;32m     16\u001b[0m diric2 \u001b[38;5;241m=\u001b[39m d2\u001b[38;5;241m/\u001b[39m(\u001b[38;5;241m3\u001b[39m\u001b[38;5;241m*\u001b[39mK)\n\u001b[0;32m---> 17\u001b[0m (P,Y1,Y2) \u001b[38;5;241m=\u001b[39m \u001b[43mgenerate_dirichlet_low_rank_samples\u001b[49m(d1,d2,K,n, diric1,diric2)\n\u001b[1;32m     18\u001b[0m \u001b[38;5;66;03m#(P,Y1,Y2) = generate_low_rank_samples(d1,d2,K,n, diric1,diric2)\u001b[39;00m\n\u001b[1;32m     19\u001b[0m P_hat \u001b[38;5;241m=\u001b[39m our_algo(n,Y1,Y2,alpha,cstar,Cbar)\n",
      "\u001b[0;31mNameError\u001b[0m: name 'generate_dirichlet_low_rank_samples' is not defined"
     ]
    }
   ],
   "source": [
    "K = 10\n",
    "Cbar = .5\n",
    "alpha = .1\n",
    "cstar= alpha/10\n",
    "beg = 100\n",
    "end = 400\n",
    "step = 20\n",
    "error_low_rank  = np.zeros(len(range(beg,end,step)))\n",
    "error_empirical = np.zeros(len(range(beg,end,step)))\n",
    "\n",
    "for (i,d) in enumerate(range(beg,end,step)):\n",
    "    d1 = d\n",
    "    d2 = d\n",
    "    n = int(10000*d*np.log(d)**2)\n",
    "    diric1 = d1/(3*K)\n",
    "    diric2 = d2/(3*K)\n",
    "    (P,Y1,Y2) = generate_dirichlet_low_rank_samples(d1,d2,K,n, diric1,diric2)\n",
    "    #(P,Y1,Y2) = generate_low_rank_samples(d1,d2,K,n, diric1,diric2)\n",
    "    P_hat = our_algo(n,Y1,Y2,alpha,cstar,Cbar)\n",
    "    error_low_rank[i] = np.sum(np.abs(P-P_hat))\n",
    "    error_empirical[i] = np.sum(np.abs(P-Y2))"
   ]
  },
  {
   "cell_type": "code",
   "execution_count": 10,
   "id": "a3b62afb-ec10-4c53-8068-86e11957993a",
   "metadata": {},
   "outputs": [
    {
     "data": {
      "image/png": "[encoded data removed]",
      "text/plain": [
       "<Figure size 432x288 with 1 Axes>"
      ]
     },
     "metadata": {
      "needs_background": "light"
     },
     "output_type": "display_data"
    }
   ],
   "source": [
    "plt.plot(range(beg,end,step), error_empirical, label='empirical')\n",
    "plt.plot(range(beg,end,step), error_low_rank, label = 'our algo')\n",
    "plt.legend(loc=\"upper left\")\n",
    "plt.show()"
   ]
  },
  {
   "cell_type": "code",
   "execution_count": null,
   "id": "b95f1ff7-006f-4204-91e1-ba462752896d",
   "metadata": {},
   "outputs": [],
   "source": []
  }
 ],
 "metadata": {
  "kernelspec": {
   "display_name": "Python 3 (ipykernel)",
   "language": "python",
   "name": "python3"
  },
  "language_info": {
   "codemirror_mode": {
    "name": "ipython",
    "version": 3
   },
   "file_extension": ".py",
   "mimetype": "text/x-python",
   "name": "python",
   "nbconvert_exporter": "python",
   "pygments_lexer": "ipython3",
   "version": "3.9.12"
  }
 },
 "nbformat": 4,
 "nbformat_minor": 5
}
