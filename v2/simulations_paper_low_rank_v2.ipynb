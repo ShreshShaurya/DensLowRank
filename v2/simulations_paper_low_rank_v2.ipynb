{
 "cells": [
  {
   "cell_type": "markdown",
   "id": "8fa3668c",
   "metadata": {},
   "source": [
    "\n",
    "\n",
    "<center><img src=\"data:image/png;base64,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\" width=400 height=300/></center>\n",
    "\n",
    "___\n"
   ]
  },
  {
   "cell_type": "markdown",
   "id": "22e7dfd6",
   "metadata": {},
   "source": [
    "### The Goal of this notebook is to optimise low rank estimation:\n",
    " \n",
    "### Structure of the Script:\n",
    "* <b>Input:</b> matrice\n",
    "* <b>Output:</b> error_low_rank, error_empirical\n",
    "* <b>Method:</b> \n",
    "    * generate_low_rank_samples():\n",
    "        * has four parameters: d1,d2,K,n\n",
    "        * returns tuple of (res, Y1/n, Y2/n)\n",
    "    * generate_dirichlet_low_rank_samples(): \n",
    "        * has six parameters: d1,d2,K,n,diric1,diric2\n",
    "        * returns tuple of (res,Y1/n, Y2/n)\n",
    "    * our_algo():\n",
    "        * has six parameters: n,Y1,Y2,alpha,cstar,Cbar\n",
    "        * returns res/np.sum(res)\n",
    "    * loss_calculation() - returns two values: error_low_rank, error_empirical\n",
    "\n",
    "### Current Scope: \n",
    "This notebook is estimation procedure. But we have to do otimisation for multi-dimension density estimation procedure as well\n",
    "\n",
    "-----"
   ]
  },
  {
   "cell_type": "markdown",
   "id": "a79c4ec3",
   "metadata": {},
   "source": [
    "# Table Of Content\n",
    "* I - [Import of Packages](#first-bullet)\n",
    "* II - [generate_low_rank_samples](#second-bullet)\n",
    "* III - [generate_dirichlet_low_rank_samples](#third-bullet)\n",
    "* IV - [our_algo](#fourth-bullet)\n",
    "* V - [loss_calculation](#fifth-bullet)\n"
   ]
  },
  {
   "cell_type": "markdown",
   "id": "65808547",
   "metadata": {},
   "source": [
    "## I - Import of Packages <a class=\"anchor\" id=\"first-bullet\"></a>"
   ]
  },
  {
   "cell_type": "code",
   "execution_count": 7,
   "id": "e27c0a2a",
   "metadata": {},
   "outputs": [],
   "source": [
    "#group 1\n",
    "import sys # lets us access system-specific parameters and functions\n",
    "\n",
    "#group 2\n",
    "import numpy as np # Python library used for working with multi-dimensional array and matrix data structures\n",
    "import matplotlib.pyplot as plt #functions that make matplotlib work like MATLAB\n",
    "from numba import njit\n",
    "np.random.seed(1) "
   ]
  },
  {
   "cell_type": "markdown",
   "id": "9017790c",
   "metadata": {},
   "source": [
    "## II - generate_low_rank_samples <a class=\"anchor\" id=\"second-bullet\"></a>"
   ]
  },
  {
   "cell_type": "code",
   "execution_count": 9,
   "id": "b32b39d0",
   "metadata": {},
   "outputs": [],
   "source": [
    "@njit\n",
    "def generate_low_rank_samples(d1,d2,K,n):\n",
    "    '''\n",
    "    The goal of this function is to generate two low-rank matrices with dimensions d1 and d2, \n",
    "    using a random combination of vectors u and v.\n",
    "    \n",
    "    parameters:\n",
    "    ----\n",
    "    d1: int\n",
    "    size of the matrice \n",
    "    \n",
    "    d2: int\n",
    "    size of the matrice \n",
    "    \n",
    "    K: int\n",
    "    loop repetition\n",
    "    \n",
    "    n: int\n",
    "    sample size\n",
    "    \n",
    "    Return:\n",
    "    ----\n",
    "    \n",
    "    res,Y1/n, Y2/n : it is returned in tuple format\n",
    "    \n",
    "    res: numpy.ndarray\n",
    "    a matrix of size d1 by d2\n",
    "    \n",
    "    Y1/n: numpy.ndarray\n",
    "    a matrix obtained by generating a multinomial distribution with n samples \n",
    "    and a probability distribution derived from a low-rank matrix\n",
    "    \n",
    "    Y2/n: numpy.ndarray\n",
    "    a matrix obtained by generating a multinomial distribution with n samples \n",
    "    and a probability distribution derived from a low-rank matrix\n",
    "    \n",
    "    '''\n",
    "    res = np.zeros((d1,d2)) \n",
    "    for k in range(K): \n",
    "        u = np.random.rand(d1,1) \n",
    "        v = np.random.rand(d2,1)\n",
    "        res += 1/K * u.dot(v.T)\n",
    "    P = res/np.sum(res) \n",
    "    p = np.reshape(P,d1*d2)\n",
    "    X  = np.random.multinomial(n,p)\n",
    "    Y1 = np.reshape(X,(d1,d2)) \n",
    "    X  = np.random.multinomial(n,p)\n",
    "    Y2 = np.reshape(X,(d1,d2)) \n",
    "    \n",
    "    return(res,Y1/n, Y2/n)"
   ]
  },
  {
   "cell_type": "markdown",
   "id": "12498004",
   "metadata": {},
   "source": [
    "## III - generate_dirichlet_low_rank_samples <a class=\"anchor\" id=\"third-bullet\"></a>"
   ]
  },
  {
   "cell_type": "code",
   "execution_count": 10,
   "id": "39892006",
   "metadata": {},
   "outputs": [],
   "source": [
    "@njit\n",
    "def generate_dirichlet_low_rank_samples(d1,d2,K,n,diric1,diric2):\n",
    "    '''\n",
    "    The goal of this function is to generate two low-rank matrices with dimensions d1 and d2, \n",
    "    using a random combination of vectors u and v, using Dirichlet distribution.\n",
    "    \n",
    "    parameters:\n",
    "    ----\n",
    "    d1: int\n",
    "    size of the matrice  \n",
    "    \n",
    "    d2: int\n",
    "    size of the matrice \n",
    "    \n",
    "    K: int\n",
    "    loop repetition\n",
    "    \n",
    "    n: int\n",
    "    sample size\n",
    "    \n",
    "    diric1: float\n",
    "    to apply dirichlet distribution\n",
    "    \n",
    "    diric2: float\n",
    "    to apply dirichlet distribution\n",
    "    \n",
    "    Return:\n",
    "    ----\n",
    "    \n",
    "    res,Y1/n, Y2/n : it is returned in tuple format\n",
    "    \n",
    "    res: numpy.ndarray\n",
    "    a matrix of size d1 by d2\n",
    "    \n",
    "    Y1/n: numpy.ndarray\n",
    "    a matrix obtained by generating a multinomial distribution with n samples \n",
    "    and a probability distribution derived from a low-rank matrix. Y1/n is used for scaling\n",
    "    \n",
    "    Y2/n: numpy.ndarray\n",
    "    a matrix obtained by generating a multinomial distribution with n samples \n",
    "    and a probability distribution derived from a low-rank matrix. Y2/n is used for scaling\n",
    "    \n",
    "    '''\n",
    "    res = np.zeros((d1,d2))\n",
    "    for k in range(K):\n",
    "        u = np.random.dirichlet(diric1*np.ones(d1),1)\n",
    "        v = np.random.dirichlet(diric2*np.ones(d2),1)\n",
    "        res += 1/K * u.T.dot(v)\n",
    "    p = np.reshape(res,d1*d2)\n",
    "    X  = np.random.multinomial(n,p)\n",
    "    Y1 = np.reshape(X,(d1,d2))\n",
    "    X  = np.random.multinomial(n,p)\n",
    "    Y2 = np.reshape(X,(d1,d2))\n",
    "    \n",
    "    return(res,Y1/n, Y2/n)"
   ]
  },
  {
   "cell_type": "markdown",
   "id": "36f5da5e",
   "metadata": {},
   "source": [
    "## IV - our_algo <a class=\"anchor\" id=\"fourth-bullet\"></a>"
   ]
  },
  {
   "cell_type": "code",
   "execution_count": 11,
   "id": "322e5aa6",
   "metadata": {},
   "outputs": [],
   "source": [
    "@njit\n",
    "def our_algo(n,Y1,Y2,alpha,cstar,Cbar):\n",
    "    '''\n",
    "    The goal of this function is to return low rank matrix using singular value decomposition and thresholding\n",
    "    \n",
    "    parameters:\n",
    "    ----\n",
    "    \n",
    "    n: int\n",
    "    sample size\n",
    "    \n",
    "    Y1: numpy.ndarray\n",
    "    a matrix obtained by generating a multinomial distribution with n samples \n",
    "    and a probability distribution derived from a low-rank matrix\n",
    "    \n",
    "    Y2: numpy.ndarray\n",
    "    a matrix obtained by generating a multinomial distribution with n samples \n",
    "    and a probability distribution derived from a low-rank matrix\n",
    "    \n",
    "    alpha: float\n",
    "    tuning parameter\n",
    "    \n",
    "    cstar: float\n",
    "    a constant\n",
    "    \n",
    "    Cbar: float\n",
    "    tuning parameter\n",
    "    \n",
    "    Return:\n",
    "    ----\n",
    "    \n",
    "    res/np.sum(res): numpy.ndarray\n",
    "    for scaling the res matrix\n",
    "\n",
    "    \n",
    "    '''\n",
    "    (d1,d2) = np.shape(Y1) \n",
    "    d = max(d1,d2) \n",
    "\n",
    "    if (n <= d*np.log(d)):\n",
    "        return((Y1+Y2)/2)\n",
    "      \n",
    "    else:\n",
    "        res = np.zeros((d1,d2))\n",
    "        T = int(np.log(d)/np.log(2))\n",
    "        p = np.sum(Y1, axis=1)\n",
    "        q = np.sum(Y1, axis=0)\n",
    "\n",
    "        for t in range(T+1): \n",
    "            if (t<T):\n",
    "                I = np.argwhere((p <= 2**(-t)) & (p > 2**(-t-1)))\n",
    "\n",
    "            else: \n",
    "                I = np.argwhere((p <= 2**(-t)))\n",
    "\n",
    "            for u in range(T+1): \n",
    "                if (u<T):\n",
    "                    J = np.argwhere((q <= 2**(-u)) & (q > 2**(-u-1))) \n",
    "                else: \n",
    "                    J = np.argwhere(q <= 2**(-u))\n",
    "                #M = np.zeros(np.shape(Y2))  \n",
    "                M = np.zeros((len(I),len(J))) \n",
    "                #for i in range(len(I)): \n",
    "                #    for j in range(len(J)): \n",
    "                #        M[i,j] = Y2[I[i],J[j]]\n",
    "                row_indices = np.zeros(Y2.shape[0], dtype=bool)\n",
    "                row_indices[I] = True\n",
    "                col_indices = np.zeros(Y2.shape[1], dtype=bool)\n",
    "                col_indices[J] = True\n",
    "                M = Y2[row_indices, :][:, col_indices]\n",
    "\n",
    "                if (np.sum(M) < 2*Cbar*alpha*np.log(d)/(n*np.log(2))):\n",
    "\n",
    "                    for i in range(len(I)): # +1\n",
    "                        for j in range(len(J)):\n",
    "                            res[I[i],J[j]] = Y2[I[i],J[j]]  \n",
    "\n",
    "                else:\n",
    "                    #print((t,u))\n",
    "                    tau = np.log(d) * np.sqrt(cstar * 2**(1-min(t,u))/n)\n",
    "                    U,s,Vh = np.linalg.svd(M)\n",
    "                    l = len(s[s>=tau])\n",
    "                    #l = 5\n",
    "                    H = np.dot(U[:,:l]*s[:l], Vh[:l,:])\n",
    "                    for i in range(len(I)):  # +2\n",
    "                        for j in range(len(J)):\n",
    "                            res[I[i],J[j]] = H[i,j]\n",
    "\n",
    "\n",
    "        return(res/np.sum(res))"
   ]
  },
  {
   "cell_type": "markdown",
   "id": "ae7ea124",
   "metadata": {},
   "source": [
    "## V - loss_calculation  <a class=\"anchor\" id=\"fifth-bullet\"></a>"
   ]
  },
  {
   "cell_type": "code",
   "execution_count": 13,
   "id": "12c6f542",
   "metadata": {},
   "outputs": [
    {
     "ename": "TypingError",
     "evalue": "\u001b[1m\u001b[1m\u001b[1m\u001b[1mFailed in nopython mode pipeline (step: nopython frontend)\n\u001b[1m\u001b[1m\u001b[1mNo implementation of function Function(<built-in function zeros>) found for signature:\n \n >>> zeros(int64, dtype=Function(<class 'bool'>))\n \nThere are 4 candidate implementations:\n\u001b[1m   - Of which 4 did not match due to:\n   Overload in function '_OverloadWrapper._build.<locals>.ol_generated': File: numba/core/overload_glue.py: Line 131.\n     With argument(s): '(int64, dtype=Function(<class 'bool'>))':\u001b[0m\n\u001b[1m    Rejected as the implementation raised a specific error:\n      TypingError: Failed in nopython mode pipeline (step: nopython frontend)\n    \u001b[1m\u001b[1m\u001b[1mNo implementation of function Function(<intrinsic stub>) found for signature:\n     \n     >>> stub(int64, Function(<class 'bool'>))\n     \n    There are 2 candidate implementations:\n    \u001b[1m  - Of which 2 did not match due to:\n      Intrinsic of function 'stub': File: numba/core/overload_glue.py: Line 35.\n        With argument(s): '(int64, Function(<class 'bool'>))':\u001b[0m\n    \u001b[1m   No match.\u001b[0m\n    \u001b[0m\n    \u001b[0m\u001b[1mDuring: resolving callee type: Function(<intrinsic stub>)\u001b[0m\n    \u001b[0m\u001b[1mDuring: typing of call at <string> (3)\n    \u001b[0m\n    \u001b[1m\n    File \"<string>\", line 3:\u001b[0m\n    \u001b[1m<source missing, REPL/exec in use?>\u001b[0m\n\u001b[0m\n  raised from /Users/gaetanbrison/opt/anaconda3/lib/python3.9/site-packages/numba/core/typeinfer.py:1086\n\u001b[0m\n\u001b[0m\u001b[1mDuring: resolving callee type: Function(<built-in function zeros>)\u001b[0m\n\u001b[0m\u001b[1mDuring: typing of call at /var/folders/v_/vcf1lg6d1d517lzpgs2wzyhr0000gn/T/ipykernel_85054/3931997796.py (66)\n\u001b[0m\n\u001b[1m\nFile \"../../../../../../../var/folders/v_/vcf1lg6d1d517lzpgs2wzyhr0000gn/T/ipykernel_85054/3931997796.py\", line 66:\u001b[0m\n\u001b[1m<source missing, REPL/exec in use?>\u001b[0m\n\n\u001b[0m\u001b[1mDuring: resolving callee type: type(CPUDispatcher(<function our_algo at 0x7fec089a3c10>))\u001b[0m\n\u001b[0m\u001b[1mDuring: typing of call at <magic-timeit> (37)\n\u001b[0m\n\u001b[0m\u001b[1mDuring: resolving callee type: type(CPUDispatcher(<function our_algo at 0x7fec089a3c10>))\u001b[0m\n\u001b[0m\u001b[1mDuring: typing of call at <magic-timeit> (37)\n\u001b[0m",
     "output_type": "error",
     "traceback": [
      "\u001b[0;31m---------------------------------------------------------------------------\u001b[0m",
      "\u001b[0;31mTypingError\u001b[0m                               Traceback (most recent call last)",
      "Input \u001b[0;32mIn [13]\u001b[0m, in \u001b[0;36m<cell line: 1>\u001b[0;34m()\u001b[0m\n\u001b[0;32m----> 1\u001b[0m \u001b[43mget_ipython\u001b[49m\u001b[43m(\u001b[49m\u001b[43m)\u001b[49m\u001b[38;5;241;43m.\u001b[39;49m\u001b[43mrun_cell_magic\u001b[49m\u001b[43m(\u001b[49m\u001b[38;5;124;43m'\u001b[39;49m\u001b[38;5;124;43mtimeit\u001b[39;49m\u001b[38;5;124;43m'\u001b[39;49m\u001b[43m,\u001b[49m\u001b[43m \u001b[49m\u001b[38;5;124;43m'\u001b[39;49m\u001b[38;5;124;43m'\u001b[39;49m\u001b[43m,\u001b[49m\u001b[43m \u001b[49m\u001b[38;5;124;43m\"\u001b[39;49m\u001b[38;5;124;43mdef loss_calculation():\u001b[39;49m\u001b[38;5;130;43;01m\\n\u001b[39;49;00m\u001b[38;5;124;43m    \u001b[39;49m\u001b[38;5;124;43m'\u001b[39;49m\u001b[38;5;124;43m'\u001b[39;49m\u001b[38;5;124;43m'\u001b[39;49m\u001b[38;5;130;43;01m\\n\u001b[39;49;00m\u001b[38;5;124;43m    The goal of this function is to is to evaluate the performance of an algorithm for matrix completion\u001b[39;49m\u001b[38;5;130;43;01m\\n\u001b[39;49;00m\u001b[38;5;124;43m    in the context of low-rank matrix recovery.\u001b[39;49m\u001b[38;5;130;43;01m\\n\u001b[39;49;00m\u001b[38;5;124;43m    \u001b[39;49m\u001b[38;5;130;43;01m\\n\u001b[39;49;00m\u001b[38;5;124;43m    Return:\u001b[39;49m\u001b[38;5;130;43;01m\\n\u001b[39;49;00m\u001b[38;5;124;43m    ----\u001b[39;49m\u001b[38;5;130;43;01m\\n\u001b[39;49;00m\u001b[38;5;124;43m    error_low_rank: numpy.ndarray\u001b[39;49m\u001b[38;5;130;43;01m\\n\u001b[39;49;00m\u001b[38;5;124;43m    measure the error difference\u001b[39;49m\u001b[38;5;130;43;01m\\n\u001b[39;49;00m\u001b[38;5;124;43m    \u001b[39;49m\u001b[38;5;130;43;01m\\n\u001b[39;49;00m\u001b[38;5;124;43m    error_empirical: numpy.ndarray\u001b[39;49m\u001b[38;5;130;43;01m\\n\u001b[39;49;00m\u001b[38;5;124;43m    measure the error difference\u001b[39;49m\u001b[38;5;130;43;01m\\n\u001b[39;49;00m\u001b[38;5;124;43m    \u001b[39;49m\u001b[38;5;130;43;01m\\n\u001b[39;49;00m\u001b[38;5;130;43;01m\\n\u001b[39;49;00m\u001b[38;5;124;43m    \u001b[39;49m\u001b[38;5;124;43m'\u001b[39;49m\u001b[38;5;124;43m'\u001b[39;49m\u001b[38;5;124;43m'\u001b[39;49m\u001b[38;5;130;43;01m\\n\u001b[39;49;00m\u001b[38;5;124;43m    \u001b[39;49m\u001b[38;5;130;43;01m\\n\u001b[39;49;00m\u001b[38;5;124;43m    K = 10\u001b[39;49m\u001b[38;5;130;43;01m\\n\u001b[39;49;00m\u001b[38;5;124;43m    Cbar = .5\u001b[39;49m\u001b[38;5;130;43;01m\\n\u001b[39;49;00m\u001b[38;5;124;43m    alpha = .1\u001b[39;49m\u001b[38;5;130;43;01m\\n\u001b[39;49;00m\u001b[38;5;124;43m    cstar= alpha/10\u001b[39;49m\u001b[38;5;130;43;01m\\n\u001b[39;49;00m\u001b[38;5;124;43m    beg = 100\u001b[39;49m\u001b[38;5;130;43;01m\\n\u001b[39;49;00m\u001b[38;5;124;43m    end = 400\u001b[39;49m\u001b[38;5;130;43;01m\\n\u001b[39;49;00m\u001b[38;5;124;43m    step = 20\u001b[39;49m\u001b[38;5;130;43;01m\\n\u001b[39;49;00m\u001b[38;5;130;43;01m\\n\u001b[39;49;00m\u001b[38;5;124;43m    error_low_rank  = np.zeros(len(range(beg,end,step)))\u001b[39;49m\u001b[38;5;130;43;01m\\n\u001b[39;49;00m\u001b[38;5;124;43m    error_empirical = np.zeros(len(range(beg,end,step)))\u001b[39;49m\u001b[38;5;130;43;01m\\n\u001b[39;49;00m\u001b[38;5;130;43;01m\\n\u001b[39;49;00m\u001b[38;5;124;43m    for (i,d) in enumerate(range(beg,end,step)):\u001b[39;49m\u001b[38;5;130;43;01m\\n\u001b[39;49;00m\u001b[38;5;124;43m        d1 = d\u001b[39;49m\u001b[38;5;130;43;01m\\n\u001b[39;49;00m\u001b[38;5;124;43m        d2 = d\u001b[39;49m\u001b[38;5;130;43;01m\\n\u001b[39;49;00m\u001b[38;5;124;43m        n = int(10000*d*np.log(d)**2)\u001b[39;49m\u001b[38;5;130;43;01m\\n\u001b[39;49;00m\u001b[38;5;124;43m        diric1 = d1/(3*K)\u001b[39;49m\u001b[38;5;130;43;01m\\n\u001b[39;49;00m\u001b[38;5;124;43m        diric2 = d2/(3*K)\u001b[39;49m\u001b[38;5;130;43;01m\\n\u001b[39;49;00m\u001b[38;5;124;43m        (P,Y1,Y2) = generate_dirichlet_low_rank_samples(d1,d2,K,n, diric1,diric2)\u001b[39;49m\u001b[38;5;130;43;01m\\n\u001b[39;49;00m\u001b[38;5;124;43m        #(P,Y1,Y2) = generate_low_rank_samples(d1,d2,K,n, diric1,diric2)\u001b[39;49m\u001b[38;5;130;43;01m\\n\u001b[39;49;00m\u001b[38;5;124;43m        P_hat = our_algo(n,Y1,Y2,alpha,cstar,Cbar)\u001b[39;49m\u001b[38;5;130;43;01m\\n\u001b[39;49;00m\u001b[38;5;124;43m        error_low_rank[i] = np.sum(np.abs(P-P_hat))\u001b[39;49m\u001b[38;5;130;43;01m\\n\u001b[39;49;00m\u001b[38;5;124;43m        error_empirical[i] = np.sum(np.abs(P-Y2))\u001b[39;49m\u001b[38;5;130;43;01m\\n\u001b[39;49;00m\u001b[38;5;124;43m    return error_low_rank, error_empirical\u001b[39;49m\u001b[38;5;130;43;01m\\n\u001b[39;49;00m\u001b[38;5;130;43;01m\\n\u001b[39;49;00m\u001b[38;5;124;43merror_low_rank, error_empirical = loss_calculation()\u001b[39;49m\u001b[38;5;130;43;01m\\n\u001b[39;49;00m\u001b[38;5;124;43m\"\u001b[39;49m\u001b[43m)\u001b[49m\n",
      "File \u001b[0;32m~/opt/anaconda3/lib/python3.9/site-packages/IPython/core/interactiveshell.py:2347\u001b[0m, in \u001b[0;36mInteractiveShell.run_cell_magic\u001b[0;34m(self, magic_name, line, cell)\u001b[0m\n\u001b[1;32m   2345\u001b[0m \u001b[38;5;28;01mwith\u001b[39;00m \u001b[38;5;28mself\u001b[39m\u001b[38;5;241m.\u001b[39mbuiltin_trap:\n\u001b[1;32m   2346\u001b[0m     args \u001b[38;5;241m=\u001b[39m (magic_arg_s, cell)\n\u001b[0;32m-> 2347\u001b[0m     result \u001b[38;5;241m=\u001b[39m \u001b[43mfn\u001b[49m\u001b[43m(\u001b[49m\u001b[38;5;241;43m*\u001b[39;49m\u001b[43margs\u001b[49m\u001b[43m,\u001b[49m\u001b[43m \u001b[49m\u001b[38;5;241;43m*\u001b[39;49m\u001b[38;5;241;43m*\u001b[39;49m\u001b[43mkwargs\u001b[49m\u001b[43m)\u001b[49m\n\u001b[1;32m   2348\u001b[0m \u001b[38;5;28;01mreturn\u001b[39;00m result\n",
      "File \u001b[0;32m~/opt/anaconda3/lib/python3.9/site-packages/IPython/core/magics/execution.py:1162\u001b[0m, in \u001b[0;36mExecutionMagics.timeit\u001b[0;34m(self, line, cell, local_ns)\u001b[0m\n\u001b[1;32m   1160\u001b[0m \u001b[38;5;28;01mfor\u001b[39;00m index \u001b[38;5;129;01min\u001b[39;00m \u001b[38;5;28mrange\u001b[39m(\u001b[38;5;241m0\u001b[39m, \u001b[38;5;241m10\u001b[39m):\n\u001b[1;32m   1161\u001b[0m     number \u001b[38;5;241m=\u001b[39m \u001b[38;5;241m10\u001b[39m \u001b[38;5;241m*\u001b[39m\u001b[38;5;241m*\u001b[39m index\n\u001b[0;32m-> 1162\u001b[0m     time_number \u001b[38;5;241m=\u001b[39m \u001b[43mtimer\u001b[49m\u001b[38;5;241;43m.\u001b[39;49m\u001b[43mtimeit\u001b[49m\u001b[43m(\u001b[49m\u001b[43mnumber\u001b[49m\u001b[43m)\u001b[49m\n\u001b[1;32m   1163\u001b[0m     \u001b[38;5;28;01mif\u001b[39;00m time_number \u001b[38;5;241m>\u001b[39m\u001b[38;5;241m=\u001b[39m \u001b[38;5;241m0.2\u001b[39m:\n\u001b[1;32m   1164\u001b[0m         \u001b[38;5;28;01mbreak\u001b[39;00m\n",
      "File \u001b[0;32m~/opt/anaconda3/lib/python3.9/site-packages/IPython/core/magics/execution.py:156\u001b[0m, in \u001b[0;36mTimer.timeit\u001b[0;34m(self, number)\u001b[0m\n\u001b[1;32m    154\u001b[0m gc\u001b[38;5;241m.\u001b[39mdisable()\n\u001b[1;32m    155\u001b[0m \u001b[38;5;28;01mtry\u001b[39;00m:\n\u001b[0;32m--> 156\u001b[0m     timing \u001b[38;5;241m=\u001b[39m \u001b[38;5;28;43mself\u001b[39;49m\u001b[38;5;241;43m.\u001b[39;49m\u001b[43minner\u001b[49m\u001b[43m(\u001b[49m\u001b[43mit\u001b[49m\u001b[43m,\u001b[49m\u001b[43m \u001b[49m\u001b[38;5;28;43mself\u001b[39;49m\u001b[38;5;241;43m.\u001b[39;49m\u001b[43mtimer\u001b[49m\u001b[43m)\u001b[49m\n\u001b[1;32m    157\u001b[0m \u001b[38;5;28;01mfinally\u001b[39;00m:\n\u001b[1;32m    158\u001b[0m     \u001b[38;5;28;01mif\u001b[39;00m gcold:\n",
      "File \u001b[0;32m<magic-timeit>:41\u001b[0m, in \u001b[0;36minner\u001b[0;34m(_it, _timer)\u001b[0m\n",
      "File \u001b[0;32m<magic-timeit>:36\u001b[0m, in \u001b[0;36mloss_calculation\u001b[0;34m()\u001b[0m\n",
      "File \u001b[0;32m~/opt/anaconda3/lib/python3.9/site-packages/numba/core/dispatcher.py:468\u001b[0m, in \u001b[0;36m_DispatcherBase._compile_for_args\u001b[0;34m(self, *args, **kws)\u001b[0m\n\u001b[1;32m    464\u001b[0m         msg \u001b[38;5;241m=\u001b[39m (\u001b[38;5;124mf\u001b[39m\u001b[38;5;124m\"\u001b[39m\u001b[38;5;132;01m{\u001b[39;00m\u001b[38;5;28mstr\u001b[39m(e)\u001b[38;5;241m.\u001b[39mrstrip()\u001b[38;5;132;01m}\u001b[39;00m\u001b[38;5;124m \u001b[39m\u001b[38;5;130;01m\\n\u001b[39;00m\u001b[38;5;130;01m\\n\u001b[39;00m\u001b[38;5;124mThis error may have been caused \u001b[39m\u001b[38;5;124m\"\u001b[39m\n\u001b[1;32m    465\u001b[0m                \u001b[38;5;124mf\u001b[39m\u001b[38;5;124m\"\u001b[39m\u001b[38;5;124mby the following argument(s):\u001b[39m\u001b[38;5;130;01m\\n\u001b[39;00m\u001b[38;5;132;01m{\u001b[39;00margs_str\u001b[38;5;132;01m}\u001b[39;00m\u001b[38;5;130;01m\\n\u001b[39;00m\u001b[38;5;124m\"\u001b[39m)\n\u001b[1;32m    466\u001b[0m         e\u001b[38;5;241m.\u001b[39mpatch_message(msg)\n\u001b[0;32m--> 468\u001b[0m     \u001b[43merror_rewrite\u001b[49m\u001b[43m(\u001b[49m\u001b[43me\u001b[49m\u001b[43m,\u001b[49m\u001b[43m \u001b[49m\u001b[38;5;124;43m'\u001b[39;49m\u001b[38;5;124;43mtyping\u001b[39;49m\u001b[38;5;124;43m'\u001b[39;49m\u001b[43m)\u001b[49m\n\u001b[1;32m    469\u001b[0m \u001b[38;5;28;01mexcept\u001b[39;00m errors\u001b[38;5;241m.\u001b[39mUnsupportedError \u001b[38;5;28;01mas\u001b[39;00m e:\n\u001b[1;32m    470\u001b[0m     \u001b[38;5;66;03m# Something unsupported is present in the user code, add help info\u001b[39;00m\n\u001b[1;32m    471\u001b[0m     error_rewrite(e, \u001b[38;5;124m'\u001b[39m\u001b[38;5;124munsupported_error\u001b[39m\u001b[38;5;124m'\u001b[39m)\n",
      "File \u001b[0;32m~/opt/anaconda3/lib/python3.9/site-packages/numba/core/dispatcher.py:409\u001b[0m, in \u001b[0;36m_DispatcherBase._compile_for_args.<locals>.error_rewrite\u001b[0;34m(e, issue_type)\u001b[0m\n\u001b[1;32m    407\u001b[0m     \u001b[38;5;28;01mraise\u001b[39;00m e\n\u001b[1;32m    408\u001b[0m \u001b[38;5;28;01melse\u001b[39;00m:\n\u001b[0;32m--> 409\u001b[0m     \u001b[38;5;28;01mraise\u001b[39;00m e\u001b[38;5;241m.\u001b[39mwith_traceback(\u001b[38;5;28;01mNone\u001b[39;00m)\n",
      "\u001b[0;31mTypingError\u001b[0m: \u001b[1m\u001b[1m\u001b[1m\u001b[1mFailed in nopython mode pipeline (step: nopython frontend)\n\u001b[1m\u001b[1m\u001b[1mNo implementation of function Function(<built-in function zeros>) found for signature:\n \n >>> zeros(int64, dtype=Function(<class 'bool'>))\n \nThere are 4 candidate implementations:\n\u001b[1m   - Of which 4 did not match due to:\n   Overload in function '_OverloadWrapper._build.<locals>.ol_generated': File: numba/core/overload_glue.py: Line 131.\n     With argument(s): '(int64, dtype=Function(<class 'bool'>))':\u001b[0m\n\u001b[1m    Rejected as the implementation raised a specific error:\n      TypingError: Failed in nopython mode pipeline (step: nopython frontend)\n    \u001b[1m\u001b[1m\u001b[1mNo implementation of function Function(<intrinsic stub>) found for signature:\n     \n     >>> stub(int64, Function(<class 'bool'>))\n     \n    There are 2 candidate implementations:\n    \u001b[1m  - Of which 2 did not match due to:\n      Intrinsic of function 'stub': File: numba/core/overload_glue.py: Line 35.\n        With argument(s): '(int64, Function(<class 'bool'>))':\u001b[0m\n    \u001b[1m   No match.\u001b[0m\n    \u001b[0m\n    \u001b[0m\u001b[1mDuring: resolving callee type: Function(<intrinsic stub>)\u001b[0m\n    \u001b[0m\u001b[1mDuring: typing of call at <string> (3)\n    \u001b[0m\n    \u001b[1m\n    File \"<string>\", line 3:\u001b[0m\n    \u001b[1m<source missing, REPL/exec in use?>\u001b[0m\n\u001b[0m\n  raised from /Users/gaetanbrison/opt/anaconda3/lib/python3.9/site-packages/numba/core/typeinfer.py:1086\n\u001b[0m\n\u001b[0m\u001b[1mDuring: resolving callee type: Function(<built-in function zeros>)\u001b[0m\n\u001b[0m\u001b[1mDuring: typing of call at /var/folders/v_/vcf1lg6d1d517lzpgs2wzyhr0000gn/T/ipykernel_85054/3931997796.py (66)\n\u001b[0m\n\u001b[1m\nFile \"../../../../../../../var/folders/v_/vcf1lg6d1d517lzpgs2wzyhr0000gn/T/ipykernel_85054/3931997796.py\", line 66:\u001b[0m\n\u001b[1m<source missing, REPL/exec in use?>\u001b[0m\n\n\u001b[0m\u001b[1mDuring: resolving callee type: type(CPUDispatcher(<function our_algo at 0x7fec089a3c10>))\u001b[0m\n\u001b[0m\u001b[1mDuring: typing of call at <magic-timeit> (37)\n\u001b[0m\n\u001b[0m\u001b[1mDuring: resolving callee type: type(CPUDispatcher(<function our_algo at 0x7fec089a3c10>))\u001b[0m\n\u001b[0m\u001b[1mDuring: typing of call at <magic-timeit> (37)\n\u001b[0m"
     ]
    }
   ],
   "source": [
    "%%timeit\n",
    "def loss_calculation():\n",
    "    '''\n",
    "    The goal of this function is to is to evaluate the performance of an algorithm for matrix completion\n",
    "    in the context of low-rank matrix recovery.\n",
    "    \n",
    "    Return:\n",
    "    ----\n",
    "    error_low_rank: numpy.ndarray\n",
    "    measure the error difference\n",
    "    \n",
    "    error_empirical: numpy.ndarray\n",
    "    measure the error difference\n",
    "    \n",
    "\n",
    "    '''\n",
    "    \n",
    "    K = 10\n",
    "    Cbar = .5\n",
    "    alpha = .1\n",
    "    cstar= alpha/10\n",
    "    beg = 100\n",
    "    end = 400\n",
    "    step = 20\n",
    "\n",
    "    error_low_rank  = np.zeros(len(range(beg,end,step)))\n",
    "    error_empirical = np.zeros(len(range(beg,end,step)))\n",
    "\n",
    "    for (i,d) in enumerate(range(beg,end,step)):\n",
    "        d1 = d\n",
    "        d2 = d\n",
    "        n = int(10000*d*np.log(d)**2)\n",
    "        diric1 = d1/(3*K)\n",
    "        diric2 = d2/(3*K)\n",
    "        (P,Y1,Y2) = generate_dirichlet_low_rank_samples(d1,d2,K,n, diric1,diric2)\n",
    "        #(P,Y1,Y2) = generate_low_rank_samples(d1,d2,K,n, diric1,diric2)\n",
    "        P_hat = our_algo(n,Y1,Y2,alpha,cstar,Cbar)\n",
    "        error_low_rank[i] = np.sum(np.abs(P-P_hat))\n",
    "        error_empirical[i] = np.sum(np.abs(P-Y2))\n",
    "    return error_low_rank, error_empirical\n",
    "\n",
    "error_low_rank, error_empirical = loss_calculation()"
   ]
  },
  {
   "cell_type": "code",
   "execution_count": 37,
   "id": "b45eb574",
   "metadata": {},
   "outputs": [
    {
     "data": {
      "text/plain": [
       "array([0.01722172, 0.01801346, 0.01898817, 0.01992278, 0.0204736 ,\n",
       "       0.02124961, 0.02185574, 0.02237391, 0.0230842 , 0.0236968 ,\n",
       "       0.02419112, 0.02478978, 0.02523117, 0.02572429, 0.02622529])"
      ]
     },
     "execution_count": 37,
     "metadata": {},
     "output_type": "execute_result"
    }
   ],
   "source": [
    "error_empirical"
   ]
  },
  {
   "cell_type": "code",
   "execution_count": 38,
   "id": "cc7c4526",
   "metadata": {},
   "outputs": [
    {
     "data": {
      "text/plain": [
       "array([0.01622347, 0.01646942, 0.01603034, 0.01878983, 0.01905644,\n",
       "       0.01940091, 0.01965256, 0.01958832, 0.01626183, 0.0193328 ,\n",
       "       0.02216266, 0.02284626, 0.02305689, 0.02321374, 0.02335556])"
      ]
     },
     "execution_count": 38,
     "metadata": {},
     "output_type": "execute_result"
    }
   ],
   "source": [
    "error_low_rank"
   ]
  },
  {
   "cell_type": "code",
   "execution_count": 32,
   "id": "790be022",
   "metadata": {},
   "outputs": [],
   "source": [
    "%lprun -f loss_calculation loss_calculation()"
   ]
  },
  {
   "cell_type": "code",
   "execution_count": 15,
   "id": "94b037b6",
   "metadata": {},
   "outputs": [
    {
     "name": "stderr",
     "output_type": "stream",
     "text": [
      "/Users/gaetanbrison/opt/anaconda3/lib/python3.9/site-packages/numba/core/decorators.py:255: RuntimeWarning: forceobj is set for njit and is ignored\n",
      "  warnings.warn('forceobj is set for njit and is ignored', RuntimeWarning)\n"
     ]
    },
    {
     "ename": "TypingError",
     "evalue": "Failed in nopython mode pipeline (step: nopython frontend)\n\u001b[1mUntyped global name 'njit':\u001b[0m \u001b[1m\u001b[1mCannot determine Numba type of <class 'function'>\u001b[0m\n\u001b[1m\nFile \"../../../../../../../var/folders/v_/vcf1lg6d1d517lzpgs2wzyhr0000gn/T/ipykernel_85054/1314479744.py\", line 5:\u001b[0m\n\u001b[1m<source missing, REPL/exec in use?>\u001b[0m\n\u001b[0m",
     "output_type": "error",
     "traceback": [
      "\u001b[0;31m---------------------------------------------------------------------------\u001b[0m",
      "\u001b[0;31mTypingError\u001b[0m                               Traceback (most recent call last)",
      "Input \u001b[0;32mIn [15]\u001b[0m, in \u001b[0;36m<cell line: 11>\u001b[0;34m()\u001b[0m\n\u001b[1;32m      7\u001b[0m         \u001b[38;5;28;01mreturn\u001b[39;00m a \u001b[38;5;241m+\u001b[39m b\n\u001b[1;32m      9\u001b[0m     \u001b[38;5;28;01mreturn\u001b[39;00m inner_function(x, y)\n\u001b[0;32m---> 11\u001b[0m result \u001b[38;5;241m=\u001b[39m \u001b[43mouter_function\u001b[49m\u001b[43m(\u001b[49m\u001b[38;5;241;43m1\u001b[39;49m\u001b[43m,\u001b[49m\u001b[43m \u001b[49m\u001b[38;5;241;43m2\u001b[39;49m\u001b[43m)\u001b[49m\n\u001b[1;32m     12\u001b[0m \u001b[38;5;28mprint\u001b[39m(result)\n",
      "File \u001b[0;32m~/opt/anaconda3/lib/python3.9/site-packages/numba/core/dispatcher.py:468\u001b[0m, in \u001b[0;36m_DispatcherBase._compile_for_args\u001b[0;34m(self, *args, **kws)\u001b[0m\n\u001b[1;32m    464\u001b[0m         msg \u001b[38;5;241m=\u001b[39m (\u001b[38;5;124mf\u001b[39m\u001b[38;5;124m\"\u001b[39m\u001b[38;5;132;01m{\u001b[39;00m\u001b[38;5;28mstr\u001b[39m(e)\u001b[38;5;241m.\u001b[39mrstrip()\u001b[38;5;132;01m}\u001b[39;00m\u001b[38;5;124m \u001b[39m\u001b[38;5;130;01m\\n\u001b[39;00m\u001b[38;5;130;01m\\n\u001b[39;00m\u001b[38;5;124mThis error may have been caused \u001b[39m\u001b[38;5;124m\"\u001b[39m\n\u001b[1;32m    465\u001b[0m                \u001b[38;5;124mf\u001b[39m\u001b[38;5;124m\"\u001b[39m\u001b[38;5;124mby the following argument(s):\u001b[39m\u001b[38;5;130;01m\\n\u001b[39;00m\u001b[38;5;132;01m{\u001b[39;00margs_str\u001b[38;5;132;01m}\u001b[39;00m\u001b[38;5;130;01m\\n\u001b[39;00m\u001b[38;5;124m\"\u001b[39m)\n\u001b[1;32m    466\u001b[0m         e\u001b[38;5;241m.\u001b[39mpatch_message(msg)\n\u001b[0;32m--> 468\u001b[0m     \u001b[43merror_rewrite\u001b[49m\u001b[43m(\u001b[49m\u001b[43me\u001b[49m\u001b[43m,\u001b[49m\u001b[43m \u001b[49m\u001b[38;5;124;43m'\u001b[39;49m\u001b[38;5;124;43mtyping\u001b[39;49m\u001b[38;5;124;43m'\u001b[39;49m\u001b[43m)\u001b[49m\n\u001b[1;32m    469\u001b[0m \u001b[38;5;28;01mexcept\u001b[39;00m errors\u001b[38;5;241m.\u001b[39mUnsupportedError \u001b[38;5;28;01mas\u001b[39;00m e:\n\u001b[1;32m    470\u001b[0m     \u001b[38;5;66;03m# Something unsupported is present in the user code, add help info\u001b[39;00m\n\u001b[1;32m    471\u001b[0m     error_rewrite(e, \u001b[38;5;124m'\u001b[39m\u001b[38;5;124munsupported_error\u001b[39m\u001b[38;5;124m'\u001b[39m)\n",
      "File \u001b[0;32m~/opt/anaconda3/lib/python3.9/site-packages/numba/core/dispatcher.py:409\u001b[0m, in \u001b[0;36m_DispatcherBase._compile_for_args.<locals>.error_rewrite\u001b[0;34m(e, issue_type)\u001b[0m\n\u001b[1;32m    407\u001b[0m     \u001b[38;5;28;01mraise\u001b[39;00m e\n\u001b[1;32m    408\u001b[0m \u001b[38;5;28;01melse\u001b[39;00m:\n\u001b[0;32m--> 409\u001b[0m     \u001b[38;5;28;01mraise\u001b[39;00m e\u001b[38;5;241m.\u001b[39mwith_traceback(\u001b[38;5;28;01mNone\u001b[39;00m)\n",
      "\u001b[0;31mTypingError\u001b[0m: Failed in nopython mode pipeline (step: nopython frontend)\n\u001b[1mUntyped global name 'njit':\u001b[0m \u001b[1m\u001b[1mCannot determine Numba type of <class 'function'>\u001b[0m\n\u001b[1m\nFile \"../../../../../../../var/folders/v_/vcf1lg6d1d517lzpgs2wzyhr0000gn/T/ipykernel_85054/1314479744.py\", line 5:\u001b[0m\n\u001b[1m<source missing, REPL/exec in use?>\u001b[0m\n\u001b[0m"
     ]
    }
   ],
   "source": [
    "from numba import njit\n",
    "\n",
    "@njit(forceobj=True)\n",
    "def outer_function(x, y):\n",
    "    @njit(forceobj=True)\n",
    "    def inner_function(a, b):\n",
    "        return a + b\n",
    "\n",
    "    return inner_function(x, y)\n",
    "\n",
    "result = outer_function(1, 2)\n",
    "print(result)\n"
   ]
  },
  {
   "cell_type": "code",
   "execution_count": null,
   "id": "ca0a26e3-0392-4909-a2dc-10f282963fbd",
   "metadata": {},
   "outputs": [],
   "source": []
  }
 ],
 "metadata": {
  "kernelspec": {
   "display_name": "Python 3 (ipykernel)",
   "language": "python",
   "name": "python3"
  },
  "language_info": {
   "codemirror_mode": {
    "name": "ipython",
    "version": 3
   },
   "file_extension": ".py",
   "mimetype": "text/x-python",
   "name": "python",
   "nbconvert_exporter": "python",
   "pygments_lexer": "ipython3",
   "version": "3.9.12"
  }
 },
 "nbformat": 4,
 "nbformat_minor": 5
}
