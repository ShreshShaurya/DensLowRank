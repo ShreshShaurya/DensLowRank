{
 "cells": [
  {
   "cell_type": "code",
   "execution_count": 1,
   "metadata": {},
   "outputs": [],
   "source": [
    "import numpy as np\n",
    "import math \n",
    "import matplotlib.pyplot as plt\n",
    "from scipy.stats import dirichlet "
   ]
  },
  {
   "attachments": {},
   "cell_type": "markdown",
   "metadata": {},
   "source": [
    "# Generate data with density function"
   ]
  },
  {
   "attachments": {},
   "cell_type": "markdown",
   "metadata": {},
   "source": [
    "### Multivariate normal distribution"
   ]
  },
  {
   "cell_type": "code",
   "execution_count": 2,
   "metadata": {},
   "outputs": [],
   "source": [
    "mean = [0,0] # mean vector \n",
    "cov = [[1, 0], [0, 1]] # covariance matrix \n",
    "# X = np.random.multivariate_normal(mean, cov, 5000) "
   ]
  },
  {
   "attachments": {},
   "cell_type": "markdown",
   "metadata": {},
   "source": [
    "### Multivariate beta distribution (Dirichlet)"
   ]
  },
  {
   "cell_type": "code",
   "execution_count": 3,
   "metadata": {},
   "outputs": [],
   "source": [
    "X = dirichlet.rvs([1,3], size=50000, random_state=1)"
   ]
  },
  {
   "attachments": {},
   "cell_type": "markdown",
   "metadata": {},
   "source": [
    "### Custom density function\n",
    "\n",
    "$f(x,y) = 1 + \\sum_{k=1}^{K} \\frac{\\cos(k\\pi x)\\sin(k\\pi x)}{10}$ with $K<10$"
   ]
  },
  {
   "cell_type": "code",
   "execution_count": 4,
   "metadata": {},
   "outputs": [],
   "source": [
    "def density_funs(x,y,K):\n",
    "    return 1 + sum([(1/10)*math.cos(k*math.pi*x)*math.sin(k*math.pi*y) for k in range(K)])"
   ]
  },
  {
   "attachments": {},
   "cell_type": "markdown",
   "metadata": {},
   "source": [
    "## Algorithm 1 : Discrete distributions"
   ]
  },
  {
   "cell_type": "code",
   "execution_count": 5,
   "metadata": {},
   "outputs": [],
   "source": [
    "def our_algo(n,d,Y1,Y2,alpha,cstar,Cbar):\n",
    "\n",
    "    \"\"\"\n",
    "    This function implements a low-rank probability matrix estimation for discrete distributions.\n",
    "\n",
    "    \n",
    "    Parameters :\n",
    "    -----\n",
    "\n",
    "    n : int\n",
    "    sample size \n",
    "\n",
    "    Y1 : numpy.ndarray\n",
    "    a 2-dimensional histogram with shape (d1,d2)\n",
    "    d1 is the number of labels in the first variable, d2 in the second variable\n",
    "    \n",
    "    Y2 : numpy.ndarray \n",
    "    a 2-dimensional histogram with shape (d1,d2) representing an empirical estimator of the probability matrix\n",
    "\n",
    "    alpha : int (alpha > 0)\n",
    "    a constant \n",
    "\n",
    "    cstar : int (cstar > 0)\n",
    "    a constant (from Proposition 5)\n",
    "\n",
    "    Cbar : int (Cbar > 0)\n",
    "    an absolute constant (from Lemma 1)\n",
    "\n",
    "    \n",
    "    \n",
    "    Return :\n",
    "    ----\n",
    "    res/np.sum(res) : numpy.ndarray\n",
    "    an estimation of the discrete matrix probability\n",
    "\n",
    "\n",
    "    \"\"\" \n",
    "\n",
    "    # (d1,d2) = np.shape(Y1)\n",
    "    # d = max(d1,d2)\n",
    "    \n",
    "    if (n <= d*np.log(d)):\n",
    "        return((Y1+Y2)/2)\n",
    "      \n",
    "    else:\n",
    "        res = np.zeros((d1,d2))\n",
    "        T = int(np.log(d)/np.log(2))\n",
    "        p = np.sum(Y1, axis=1)\n",
    "        q = np.sum(Y1, axis=0)\n",
    "\n",
    "        for t in range(T+1):\n",
    "            if (t<T):\n",
    "                I = np.argwhere((p <= 2**(-t)) & (p > 2**(-t-1)))\n",
    "            else: \n",
    "                I = np.argwhere((p <= 2**(-t)))\n",
    "                \n",
    "            for u in range(T+1):\n",
    "                if (u<T):\n",
    "                    J = np.argwhere((q <= 2**(-u)) & (q > 2**(-u-1)))\n",
    "                else: \n",
    "                    J = np.argwhere(q <= 2**(-u))\n",
    "\n",
    "                M = np.zeros((len(I),len(J)))\n",
    "\n",
    "\n",
    "                for i in range(len(I)):\n",
    "                    for j in range(len(J)):\n",
    "                        M[i,j] = Y2[I[i],J[j]]\n",
    "                \n",
    "                if (np.sum(M) < 2*Cbar*alpha*np.log(d)/(n*np.log(2))):\n",
    "                    for i in range(len(I)):\n",
    "                        for j in range(len(J)):\n",
    "                            res[I[i],J[j]] = Y2[I[i],J[j]]\n",
    "                \n",
    "                else:\n",
    "                    tau = np.log(d) * np.sqrt(cstar * 2**(1-min(t,u))/n)\n",
    "                    U,s,Vh = np.linalg.svd(M)\n",
    "                    l = len(s[s>=tau])  \n",
    "\n",
    "                    H = np.dot(U[:,:l]*s[:l], Vh[:l,:])\n",
    "                    for i in range(len(I)):\n",
    "                        for j in range(len(J)):\n",
    "                            res[I[i],J[j]] = H[i,j]\n",
    "        \n",
    "        return(res/np.sum(res))\n"
   ]
  },
  {
   "attachments": {},
   "cell_type": "markdown",
   "metadata": {},
   "source": [
    "## Algorithm 2 and 3 : Continuous distributions"
   ]
  },
  {
   "cell_type": "code",
   "execution_count": 6,
   "metadata": {},
   "outputs": [],
   "source": [
    "def our_algo_3(n,Z,L):\n",
    "    \"\"\"\n",
    "    This function returns a density estimator for univariate continuous distributions.\n",
    "\n",
    "    \n",
    "    Parameters :\n",
    "    ----\n",
    "\n",
    "    n : int \n",
    "    sample size \n",
    "\n",
    "    Z : ndarray of shape (n,)\n",
    "    A 1d array generated by a density function for continuous distributions\n",
    "\n",
    "    L : int (L > 0)\n",
    "    a constant \n",
    "\n",
    "    C : float \n",
    "    a large absolute constant\n",
    "\n",
    "\n",
    "    Return :\n",
    "    ---\n",
    "    f_1(x) : density function estimator for univariate distributions \n",
    "    with x as a 1-dimensional array\n",
    "    \n",
    "    \"\"\"\n",
    "    n = len(Z)\n",
    "    r = np.min(Z[:int(n/2)])\n",
    "    R = np.max(Z[:int(n/2)])\n",
    "\n",
    "    if (R - r < n**(-1/3)*L**(-1/2)):\n",
    "        print(\"algo3 - c1\")\n",
    "        return lambda x : 1/(R-r) if (x<=r and x>=R) else 0\n",
    "\n",
    "    else:\n",
    "        print(\"algo3 - c2\")\n",
    "        H = math.floor((R-r)*n**(1/3)*L**(1/2))**(-1)*(R-r)\n",
    "        E = np.arange(-math.floor(r/H), math.ceil((1-r)/H-1))\n",
    "\n",
    "        def f_1(x):\n",
    "            s = 0\n",
    "            N = np.zeros((len(E),))\n",
    "            \n",
    "            for i,j in enumerate(E):\n",
    "                a = r + j*H\n",
    "                b = r + (j+1)*H\n",
    "                \n",
    "                N[i] = sum([1 for k in Z[int(n/2)+1:] if a <= k < b])\n",
    "                \n",
    "                if (x>=j*H) and (x<=(j+1)*H):\n",
    "                    s += N[i]\n",
    "    \n",
    "            return (1/H)*s\n",
    "        \n",
    "        return f_1"
   ]
  },
  {
   "cell_type": "code",
   "execution_count": 7,
   "metadata": {},
   "outputs": [],
   "source": [
    "def our_algo_2(n,X,alpha,L,C,Cbar,cstar):\n",
    "\n",
    "    \"\"\"\n",
    "    This function returns a probability density estimator for bivariate continuous distributions.\n",
    "\n",
    "\n",
    "    Parameters :\n",
    "    ----\n",
    "\n",
    "    n : int \n",
    "    sample size \n",
    "\n",
    "    X : np.array of shape (n,2)\n",
    "    a numpy array generated by a joint continuous distribution \n",
    "    \n",
    "    alpha : float (alpha > 0)\n",
    "    a constant \n",
    "\n",
    "    L : int (L > 0) \n",
    "    a constant \n",
    "\n",
    "    C : float (C > 0)\n",
    "    a large absolute constant \n",
    "\n",
    "    Cbar : float \n",
    "    an absolute constant (from Lemma 1)\n",
    "\n",
    "    cstar : float\n",
    "    a constant (from Proposition 5)\n",
    "\n",
    "\n",
    "\n",
    "    Return :\n",
    "    ---\n",
    "    f_1(x) : density function estimator for bivariate distributions \n",
    "    with x,y as a 1-dimensional array\n",
    "    \n",
    "    \"\"\"\n",
    "\n",
    "    global h \n",
    "    h = C/(n**(-1/3)*np.sqrt(L))\n",
    "    \n",
    "    r_1 = np.min(X[:int(n/2),0])\n",
    "    R_1 = np.max(X[:int(n/2),0])\n",
    "\n",
    "    if R_1 - r_1 < n**(1/3)*L**(-1/2):\n",
    "        print(\"algo2 - c1\")\n",
    "        g = our_algo_3(n,X[int(n/2+1):,1],L)\n",
    "        \n",
    "        return lambda x,y: (1/(R_1 - r_1))*g(y) if (x>=r_1) and (x<=R_1) else 0\n",
    "\n",
    "    \n",
    "    r_2 = np.min(X[:int(n/2),1])\n",
    "    R_2 = np.max(X[:int(n/2),1])\n",
    "\n",
    "    if R_2 - r_2 < n**(1/3)*L**(-1/2):\n",
    "        print(\"algo2 - c2\")\n",
    "        g = our_algo_3(n,X[int(n/2+1):,0],L)\n",
    "        \n",
    "        return lambda x,y: (1/(R_2-r_2))*g(x) if (y>=r_2) and (y<=R_2) else 0\n",
    "        \n",
    "\n",
    "    else:\n",
    "        print(\"algo2 - c3\")\n",
    "        h_1 = math.floor((R_1-r_1)*n**(1/3)*L**(1/2))**(-1)*(R_1-r_1)\n",
    "        h_2 = math.floor((R_2-r_2)*n**(1/3)*L**(1/2))**(-1)*(R_2-r_2)\n",
    "\n",
    "        E_1 = np.arange(-math.floor(r_1/h_1),math.ceil((1-r_1)/h_1-1))\n",
    "        E_2 = np.arange(-math.floor(r_2/h_2),math.ceil((1-r_2)/h_2-1))\n",
    "        \n",
    "        N_1 = np.zeros((len(E_1),len(E_2))) \n",
    "        N_2 = np.zeros((len(E_1),len(E_2)))\n",
    "        \n",
    "        for c1,i in enumerate(E_1):\n",
    "            a_1 = r_1 + i*h_1\n",
    "            a_2 = r_1 + (i+1)*h_1 \n",
    "\n",
    "            for c2,j in enumerate(E_2):\n",
    "                b_1 = r_2 + j*h_2\n",
    "                b_2 = r_2 + (j+1)*h_2\n",
    "        \n",
    "                N_1[c1,c2] = sum([1 if (X[k,0] >= a_1) & (X[k,0] < a_2) & (X[k,1] >= b_1) & (X[k,1] < b_2) else 0 for k in range(int(n/2)+1, int(3*n/4))])\n",
    "                N_2[c1,c2] = sum([1 if (X[k,0] >= a_1) & (X[k,0] < a_2) & (X[k,1] >= b_1) & (X[k,1] < b_2) else 0 for k in range(int(3*n/4), n)])\n",
    "\n",
    "        P = our_algo(int(n/2), np.max(np.max(np.abs(E_1)),np.max(np.abs(E_2))), N_1, N_2, alpha, cstar, Cbar)\n",
    "\n",
    "\n",
    "        def f_1(x,y):\n",
    "            s = 0\n",
    "            for c1,i in enumerate(E_1):\n",
    "                for c2,j in enumerate(E_2):\n",
    "                    if (x>=r_1 + i*h_1) and (x<r_1 + (i+1)*h_1) and (y>=r_2 + j*h_2) and (y<r_2 + (j+1)*h_2):\n",
    "                        s += P[c1,c2]\n",
    "            return (1/(h_1*h_2))*s\n",
    "    \n",
    "        return f_1\n",
    "            \n",
    "\n"
   ]
  },
  {
   "attachments": {},
   "cell_type": "markdown",
   "metadata": {},
   "source": [
    "## Test 2d density function estimation"
   ]
  },
  {
   "cell_type": "code",
   "execution_count": 8,
   "metadata": {},
   "outputs": [],
   "source": [
    "Cbar = .5\n",
    "alpha = .1\n",
    "cstar= alpha/10\n",
    "L = 1\n",
    "C = .005 \n",
    "\n",
    "# Cbar = 1\n",
    "# alpha = 1\n",
    "# cstar= alpha/10\n",
    "# L = 1\n",
    "# C = 1 \n",
    "\n",
    "n = X.shape[0]"
   ]
  },
  {
   "cell_type": "code",
   "execution_count": 9,
   "metadata": {},
   "outputs": [
    {
     "name": "stdout",
     "output_type": "stream",
     "text": [
      "algo2 - c1\n",
      "algo3 - c2\n"
     ]
    }
   ],
   "source": [
    "funs_test = our_algo_2(n,X,alpha,L,C,Cbar,cstar)\n",
    "\n",
    "# Apply density function to 1d arrays x,y (that both belong to [0,1])\n",
    "x = np.linspace(0,1)\n",
    "y = np.linspace(0,1)\n",
    "\n",
    "test_density = list(map(funs_test,x,y))"
   ]
  },
  {
   "cell_type": "code",
   "execution_count": 10,
   "metadata": {},
   "outputs": [
    {
     "data": {
      "image/png": "[encoded data removed]",
      "text/plain": [
       "<Figure size 640x480 with 1 Axes>"
      ]
     },
     "metadata": {},
     "output_type": "display_data"
    }
   ],
   "source": [
    "plt.plot(x,test_density)\n",
    "plt.xlabel(\"x\");\n",
    "plt.ylabel(\"f(x,y)\");\n",
    "#plt.show();"
   ]
  },
  {
   "cell_type": "code",
   "execution_count": null,
   "metadata": {},
   "outputs": [],
   "source": []
  }
 ],
 "metadata": {
  "kernelspec": {
   "display_name": "Python 3",
   "language": "python",
   "name": "python3"
  },
  "language_info": {
   "codemirror_mode": {
    "name": "ipython",
    "version": 3
   },
   "file_extension": ".py",
   "mimetype": "text/x-python",
   "name": "python",
   "nbconvert_exporter": "python",
   "pygments_lexer": "ipython3",
   "version": "3.9.0"
  },
  "orig_nbformat": 4,
  "vscode": {
   "interpreter": {
    "hash": "938c95f0033500b5cc73bdf95f40df77042d77f11dd5399c4fd07d89509589de"
   }
  }
 },
 "nbformat": 4,
 "nbformat_minor": 2
}
