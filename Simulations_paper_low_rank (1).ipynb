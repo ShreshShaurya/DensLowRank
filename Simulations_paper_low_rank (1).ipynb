{
 "cells": [
  {
   "cell_type": "code",
   "execution_count": 19,
   "id": "8190bc77",
   "metadata": {},
   "outputs": [],
   "source": [
    "import numpy as np\n",
    "import matplotlib.pyplot as plt\n"
   ]
  },
  {
   "cell_type": "code",
   "execution_count": null,
   "id": "9fca569e",
   "metadata": {},
   "outputs": [],
   "source": [
    "def generate_low_rank_samples(d1,d2,K,n): \n",
    "\n",
    "    res = np.zeros((d1,d2))\n",
    "    for k in range(K):\n",
    "        u = np.random.rand(d1,1)\n",
    "        v = np.random.rand(d2,1)\n",
    "        res += 1/K * u.dot(v.T)\n",
    "    P = res/np.sum(res)\n",
    "    p = np.reshape(P,d1*d2)\n",
    "    X  = np.random.multinomial(n,p)\n",
    "    Y1 = np.reshape(X,(d1,d2))\n",
    "    X  = np.random.multinomial(n,p)\n",
    "    Y2 = np.reshape(X,(d1,d2))\n",
    "    \n",
    "    return(res,Y1/n, Y2/n)\n",
    "\n",
    "\n",
    "\n",
    "def generate_dirichlet_low_rank_samples(d1,d2,K,n,diric1,diric2): \n",
    "    \n",
    "    res = np.zeros((d1,d2))\n",
    "    for k in range(K):\n",
    "        u = np.random.dirichlet(diric1*np.ones(d1),1)\n",
    "        v = np.random.dirichlet(diric2*np.ones(d2),1)\n",
    "        res += 1/K * u.T.dot(v)\n",
    "    p = np.reshape(res,d1*d2)\n",
    "    X  = np.random.multinomial(n,p)\n",
    "    Y1 = np.reshape(X,(d1,d2))\n",
    "    X  = np.random.multinomial(n,p)\n",
    "    Y2 = np.reshape(X,(d1,d2))\n",
    "    \n",
    "    return(res,Y1/n, Y2/n)\n",
    "\n"
   ]
  },
  {
   "cell_type": "markdown",
   "id": "767cc385",
   "metadata": {},
   "source": [
    "Les fonctions generate_dirichlet_low_rank_samples et generate_low_rank_samples sont deux manières différentes de générer la matrice de proba $P$ et les matrices d'observations $Y_1/n$ et $Y_2/n$. \n"
   ]
  },
  {
   "cell_type": "code",
   "execution_count": 20,
   "id": "52aa01a4",
   "metadata": {},
   "outputs": [],
   "source": [
    "def our_algo(n,Y1,Y2,alpha,cstar,Cbar):\n",
    "    (d1,d2) = np.shape(Y1)\n",
    "    d = max(d1,d2)\n",
    "    \n",
    "    if (n <= d*np.log(d)):\n",
    "        return((Y1+Y2)/2)\n",
    "      \n",
    "    else:\n",
    "        res = np.zeros((d1,d2))\n",
    "        T = int(np.log(d)/np.log(2))\n",
    "        p = np.sum(Y1, axis=1)\n",
    "        q = np.sum(Y1, axis=0)\n",
    "        \n",
    "        for t in range(T+1):\n",
    "            if (t<T):\n",
    "                I = np.argwhere((p <= 2**(-t)) & (p > 2**(-t-1)))\n",
    "            else: \n",
    "                I = np.argwhere((p <= 2**(-t)))\n",
    "                \n",
    "            for u in range(T+1):\n",
    "                if (u<T):\n",
    "                    J = np.argwhere((q <= 2**(-u)) & (q > 2**(-u-1)))\n",
    "                else: \n",
    "                    J = np.argwhere(q <= 2**(-u))\n",
    "                #M = np.zeros(np.shape(Y2))  \n",
    "                M = np.zeros((len(I),len(J)))\n",
    "                \n",
    "                for i in range(len(I)):\n",
    "                    for j in range(len(J)):\n",
    "                        M[i,j] = Y2[I[i],J[j]]\n",
    "                \n",
    "                if (np.sum(M) < 2*Cbar*alpha*np.log(d)/(n*np.log(2))):\n",
    "                    for i in range(len(I)):\n",
    "                        for j in range(len(J)):\n",
    "                            res[I[i],J[j]] = Y2[I[i],J[j]]\n",
    "                else:\n",
    "                    #print((t,u))\n",
    "                    tau = np.log(d) * np.sqrt(cstar * 2**(1-min(t,u))/n)\n",
    "                    U,s,Vh = np.linalg.svd(M)\n",
    "                    l = len(s[s>=tau])\n",
    "                    #l = 5\n",
    "                    H = np.dot(U[:,:l]*s[:l], Vh[:l,:])\n",
    "                    for i in range(len(I)):\n",
    "                        for j in range(len(J)):\n",
    "                            res[I[i],J[j]] = H[i,j]\n",
    "        return(res/np.sum(res))"
   ]
  },
  {
   "cell_type": "code",
   "execution_count": 27,
   "id": "776de752",
   "metadata": {},
   "outputs": [],
   "source": [
    "K = 10\n",
    "Cbar = .5\n",
    "alpha = .1\n",
    "cstar= alpha/10\n",
    "beg = 100\n",
    "end = 400\n",
    "step = 20\n",
    "error_low_rank  = np.zeros(len(range(beg,end,step)))\n",
    "error_empirical = np.zeros(len(range(beg,end,step)))\n",
    "\n",
    "for (i,d) in enumerate(range(beg,end,step)):\n",
    "    d1 = d\n",
    "    d2 = d\n",
    "    n = int(10000*d*np.log(d)**2)\n",
    "    diric1 = d1/(3*K)\n",
    "    diric2 = d2/(3*K)\n",
    "    (P,Y1,Y2) = generate_dirichlet_low_rank_samples(d1,d2,K,n, diric1,diric2)\n",
    "    #(P,Y1,Y2) = generate_low_rank_samples(d1,d2,K,n, diric1,diric2)\n",
    "    P_hat = our_algo(n,Y1,Y2,alpha,cstar,Cbar)\n",
    "    error_low_rank[i] = np.sum(np.abs(P-P_hat))\n",
    "    error_empirical[i] = np.sum(np.abs(P-Y2))\n"
   ]
  },
  {
   "cell_type": "code",
   "execution_count": 31,
   "id": "143d4491",
   "metadata": {},
   "outputs": [
    {
     "data": {
      "image/png": "[encoded data removed]",
      "text/plain": [
       "<Figure size 432x288 with 1 Axes>"
      ]
     },
     "metadata": {
      "needs_background": "light"
     },
     "output_type": "display_data"
    }
   ],
   "source": [
    "plt.plot(range(beg,end,step), error_empirical, label='empirical')\n",
    "plt.plot(range(beg,end,step), error_low_rank, label = 'our algo')\n",
    "plt.legend(loc=\"upper left\")\n",
    "plt.show()"
   ]
  },
  {
   "cell_type": "code",
   "execution_count": null,
   "id": "bfefd057",
   "metadata": {},
   "outputs": [],
   "source": []
  }
 ],
 "metadata": {
  "kernelspec": {
   "display_name": "Python 3 (ipykernel)",
   "language": "python",
   "name": "python3"
  },
  "language_info": {
   "codemirror_mode": {
    "name": "ipython",
    "version": 3
   },
   "file_extension": ".py",
   "mimetype": "text/x-python",
   "name": "python",
   "nbconvert_exporter": "python",
   "pygments_lexer": "ipython3",
   "version": "3.9.12"
  }
 },
 "nbformat": 4,
 "nbformat_minor": 5
}
