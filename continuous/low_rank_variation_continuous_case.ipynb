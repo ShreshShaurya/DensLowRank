{
 "cells": [
  {
   "attachments": {},
   "cell_type": "markdown",
   "metadata": {},
   "source": [
    "# Density estimation for continuous distributions\n",
    "Author : Laurène David <br>\n",
    "Date : 17/02/2023"
   ]
  },
  {
   "cell_type": "code",
   "execution_count": 3,
   "metadata": {},
   "outputs": [],
   "source": [
    "import numpy as np\n",
    "import matplotlib.pyplot as plt\n",
    "#import seaborn as sns"
   ]
  },
  {
   "attachments": {},
   "cell_type": "markdown",
   "metadata": {},
   "source": [
    "Generate data with joint normal distribution <br>\n",
    "After discussing with the researchers on 16/02, the next step would be to generate data using an \"appropriate\" function for the paper's use case. "
   ]
  },
  {
   "cell_type": "code",
   "execution_count": 4,
   "metadata": {},
   "outputs": [],
   "source": [
    "mean = [0,0]\n",
    "cov = [[1, 0], [0, 100]]\n",
    "X = np.random.multivariate_normal(mean, cov, 5000)"
   ]
  },
  {
   "cell_type": "code",
   "execution_count": null,
   "metadata": {},
   "outputs": [],
   "source": [
    "# def density_funs(x,y,K):\n",
    "#     add = 0\n",
    "#     for k in range(K):\n",
    "#         if (x in range(0,1)) and (y in range(0,1)):\n",
    "#             add += 1\n",
    "    \n",
    "#     return add \n"
   ]
  },
  {
   "attachments": {},
   "cell_type": "markdown",
   "metadata": {},
   "source": [
    "### Algorithm 1 : estimate probability matrix P for discrete distribution"
   ]
  },
  {
   "attachments": {},
   "cell_type": "markdown",
   "metadata": {},
   "source": [
    "The original algorithm sent by the researchers "
   ]
  },
  {
   "cell_type": "code",
   "execution_count": 5,
   "metadata": {},
   "outputs": [],
   "source": [
    "def our_algo(n,Y1,Y2,alpha,cstar,Cbar):\n",
    "    (d1,d2) = np.shape(Y1)\n",
    "    d = max(d1,d2)\n",
    "    \n",
    "    if (n <= d*np.log(d)):\n",
    "        print(\"test 1\")\n",
    "        return((Y1+Y2)/2)\n",
    "      \n",
    "    else:\n",
    "        res = np.zeros((d1,d2))\n",
    "        T = int(np.log(d)/np.log(2))\n",
    "        p = np.sum(Y1, axis=1)\n",
    "        q = np.sum(Y1, axis=0)\n",
    "        print(\"Y1 :\",Y1)\n",
    "        print(\"p :\",p)\n",
    "        print(\"q :\",q)\n",
    "\n",
    "        for t in range(T+1):\n",
    "            if (t<T):\n",
    "                I = np.argwhere((p <= 2**(-t)) & (p > 2**(-t-1)))\n",
    "            else: \n",
    "                I = np.argwhere((p <= 2**(-t)))\n",
    "                \n",
    "            for u in range(T+1):\n",
    "                if (u<T):\n",
    "                    J = np.argwhere((q <= 2**(-u)) & (q > 2**(-u-1)))\n",
    "                else: \n",
    "                    J = np.argwhere(q <= 2**(-u))\n",
    "                #M = np.zeros(np.shape(Y2))  \n",
    "                M = np.zeros((len(I),len(J)))\n",
    "                \n",
    "                print(\"I :\",I)\n",
    "                print(\"J :\",J)\n",
    "\n",
    "                for i in range(len(I)):\n",
    "                    for j in range(len(J)):\n",
    "                        M[i,j] = Y2[I[i],J[j]]\n",
    "                \n",
    "                if (np.sum(M) < 2*Cbar*alpha*np.log(d)/(n*np.log(2))):\n",
    "                    print(\"test 2\")\n",
    "                    for i in range(len(I)):\n",
    "                        for j in range(len(J)):\n",
    "                            res[I[i],J[j]] = Y2[I[i],J[j]]\n",
    "                else:\n",
    "                    #print((t,u))\n",
    "                    tau = np.log(d) * np.sqrt(cstar * 2**(1-min(t,u))/n)\n",
    "                    U,s,Vh = np.linalg.svd(M)\n",
    "                    l = len(s[s>=tau])  #truncation/threshold of SVD with s (select s values > tau)\n",
    "                    #l = 5\n",
    "                    H = np.dot(U[:,:l]*s[:l], Vh[:l,:])\n",
    "                    for i in range(len(I)):\n",
    "                        for j in range(len(J)):\n",
    "                            res[I[i],J[j]] = H[i,j]\n",
    "\n",
    "                    print(\"res :\",res)\n",
    "        \n",
    "        \n",
    "        #return(res/np.sum(res))\n",
    "        return(res)"
   ]
  },
  {
   "attachments": {},
   "cell_type": "markdown",
   "metadata": {},
   "source": [
    "### Algorithm 3 : One-dimensional density estimation procedure "
   ]
  },
  {
   "attachments": {},
   "cell_type": "markdown",
   "metadata": {},
   "source": [
    "My attempt to implement the paper's third algorithm. <br>\n",
    "The end goal would be to include both Algorithm 2 and 3 into the same function. <br>\n",
    "I think that I can optimize a little this algorithm in a second step.\n"
   ]
  },
  {
   "cell_type": "code",
   "execution_count": 6,
   "metadata": {},
   "outputs": [],
   "source": [
    "def our_algo_3(n,Z,L,C):\n",
    "    \"\"\"\n",
    "    The goal of this function is to generate a one-dimensional density estimator for continuous distributions.\n",
    "\n",
    "    parameters :\n",
    "    ----\n",
    "\n",
    "    n : int \n",
    "    sample size \n",
    "\n",
    "    Z : numpy.ndarray\n",
    "    A 1d array generated by a density function for continuous distributions\n",
    "\n",
    "    L : int (or float ?)\n",
    "    a constant \n",
    "\n",
    "    C : float\n",
    "    a large absolute constant\n",
    "\n",
    "\n",
    "    Return :\n",
    "    ---\n",
    "    f_2 : function\n",
    "    one-dimensional density function estimator\n",
    "\n",
    "    \n",
    "    \"\"\"\n",
    "    \n",
    "    r = np.min(Z)\n",
    "    R = np.max(Z)\n",
    "    h = C/(n**(-1/3)*np.sqrt(L))\n",
    "\n",
    "    if (R - r < n**(-1/3)*L**(-1/2)):\n",
    "\n",
    "        def f_1(x):\n",
    "            if x<=r and x>=R :\n",
    "                return 1/(R-r)\n",
    "            else :\n",
    "                return 0\n",
    "        \n",
    "        return f_1\n",
    "\n",
    "    else:\n",
    "        N = np.zeros((int(1/h),))\n",
    "        \n",
    "        for j in range(int(1/h)):\n",
    "            a = j*h\n",
    "            b = (j+1)*h\n",
    "            N[j] = len(np.argwhere((Z>=a) & (Z<b)))\n",
    "\n",
    "        def f_2(x):\n",
    "            s = 0\n",
    "            for j in range(int(1/h)):\n",
    "                if x>=j*h and x<=(j+1)*h:\n",
    "                    s += N[j]\n",
    "                #else:\n",
    "                #    s += 0\n",
    "\n",
    "            return (1/h)*s\n",
    "        \n",
    "    return f_2"
   ]
  },
  {
   "cell_type": "code",
   "execution_count": 7,
   "metadata": {},
   "outputs": [],
   "source": [
    "#fun = our_algo_3(np.random.rand(10,1),20,0.5)"
   ]
  },
  {
   "attachments": {},
   "cell_type": "markdown",
   "metadata": {},
   "source": [
    "### Algorithm 2 : Two-dimensional density estimation procedure "
   ]
  },
  {
   "attachments": {},
   "cell_type": "markdown",
   "metadata": {},
   "source": [
    "My attempt at implementing the second algorithm."
   ]
  },
  {
   "cell_type": "code",
   "execution_count": 8,
   "metadata": {},
   "outputs": [],
   "source": [
    "def our_algo_2(n,X,alpha,L,C,Cbar,cstar):\n",
    "\n",
    "    \"\"\"\n",
    "    The goal of this function is to generate a two-dimensional probability density estimator for continuous distributions.\n",
    "\n",
    "    Parameters :\n",
    "    ----\n",
    "\n",
    "    n : int \n",
    "    sample size \n",
    "\n",
    "    X : numpy.ndarray\n",
    "    A 2d array generated by a density function for continuous distributions\n",
    "    \n",
    "    alpha : float\n",
    "    tuning parameter \n",
    "\n",
    "    L : int (or float ?)\n",
    "    a constant \n",
    "\n",
    "    C : float\n",
    "    a large absolute constant\n",
    "\n",
    "    Cbar : float \n",
    "    tuning parameter\n",
    "\n",
    "    cstar : float\n",
    "    a constant \n",
    "\n",
    "\n",
    "    Return :\n",
    "    ---\n",
    "    f_2 : function\n",
    "    one-dimensional density function estimator \n",
    "\n",
    "    \n",
    "    \"\"\"\n",
    "\n",
    "    pi_1 = list(map(lambda x: x[0] ,X))\n",
    "    pi_2 = list(map(lambda x: x[1] ,X))\n",
    "    h = C/(n**(-1/3)*np.sqrt(L))\n",
    "\n",
    "    if (np.max(pi_1)-np.min(pi_1) < n**(1/3)*L**(-1/2)):\n",
    "        g = our_algo_3(n,pi_2,L,C)\n",
    "        \n",
    "        def f_1(x,y):\n",
    "            if (x>=np.min(pi_1)) and (x<=np.max(pi_1)):\n",
    "                return (1/(np.max(pi_1)-np.min(pi_1)))*g(y)\n",
    "            else:\n",
    "                return 0\n",
    "        \n",
    "        return f_1\n",
    "    \n",
    "\n",
    "    if (np.max(pi_2)-np.min(pi_2) < n**(1/3)*L**(-1/2)):\n",
    "        g = our_algo_3(n,pi_1,L,C)\n",
    "        \n",
    "        def f_2(x,y):\n",
    "            if (x>=np.min(pi_2)) and (x<=np.max(pi_2)):\n",
    "                return (1/(np.max(pi_2)-np.min(pi_2)))*g(x)\n",
    "            else:\n",
    "                return 0\n",
    "         \n",
    "        return f_2\n",
    "    \n",
    "    else:\n",
    "        #print(\"h :\",h)\n",
    "        N_1 = np.zeros((int(1/h),int(1/h))) \n",
    "        N_2 = np.zeros((int(1/h),int(1/h))) \n",
    "        \n",
    "        for i in range(int(1/h)):\n",
    "            a_i = i*h \n",
    "            b_i = (i+1)*h\n",
    "\n",
    "            for j in range(int(1/h)):\n",
    "                a_j = j*h\n",
    "                b_j = (j+1)*h\n",
    "                #print(\"a_j :\",a_j)\n",
    "\n",
    "                N_1[i,j] = np.sum(len(np.argwhere((X[:int(n/2),0]>=a_i) & (X[:int(n/2),0]<b_i) & (X[:int(n/2),1]>=a_j) & (X[:int(n/2),1]<b_j)))) \n",
    "                N_2[i,j] = np.sum(len(np.argwhere((X[int(n/2):,0]>=a_i) & (X[int(n/2):,0]<b_i) & (X[int(n/2):,1]>=a_j) & (X[int(n/2):,1]<b_j))))\n",
    "        \n",
    "        P = our_algo(n,N_1,N_2,alpha,cstar,Cbar)\n",
    "        #print(\"P :\",P)\n",
    "    \n",
    "    def f_3(x,y):\n",
    "        s = 0\n",
    "        for i in range(int(1/h)):\n",
    "            for j in range(int(1/h)):\n",
    "                if (x in range(i*h,(i+1)*h)) and (y in range(j*h,(j+1)*h)):\n",
    "                     s += P[i,j]\n",
    "                \n",
    "        return (1/h**2)*s\n",
    "    \n",
    "    return f_3\n",
    "            "
   ]
  },
  {
   "attachments": {},
   "cell_type": "markdown",
   "metadata": {},
   "source": [
    "Test algorithm for continuous distributions (algorithm 2/3)"
   ]
  },
  {
   "cell_type": "code",
   "execution_count": 10,
   "metadata": {},
   "outputs": [],
   "source": [
    "Cbar = .5\n",
    "alpha = .1\n",
    "cstar= alpha/10\n",
    "L = 1\n",
    "C = .005 \n",
    "n = X.shape[0]\n",
    "\n",
    "funs_test = our_algo_2(n,X,alpha,L,C,Cbar,cstar)"
   ]
  },
  {
   "cell_type": "code",
   "execution_count": 11,
   "metadata": {},
   "outputs": [],
   "source": [
    "x = np.linspace(0,1)\n",
    "y = np.linspace(0,1)\n",
    "\n",
    "test_density = list(map(funs_test,x,y))\n",
    "#funs_test(x,y)"
   ]
  },
  {
   "attachments": {},
   "cell_type": "markdown",
   "metadata": {},
   "source": [
    "Plot of the two dimensional estimated density function with the first coordinate x"
   ]
  },
  {
   "cell_type": "code",
   "execution_count": 12,
   "metadata": {},
   "outputs": [
    {
     "data": {
      "image/png": "[encoded data removed]",
      "text/plain": [
       "<Figure size 640x480 with 1 Axes>"
      ]
     },
     "metadata": {},
     "output_type": "display_data"
    }
   ],
   "source": [
    "plt.plot(x,test_density)\n",
    "plt.xlabel(\"x\");\n",
    "plt.ylabel(\"f(x,y)\");"
   ]
  },
  {
   "cell_type": "code",
   "execution_count": null,
   "metadata": {},
   "outputs": [],
   "source": []
  }
 ],
 "metadata": {
  "kernelspec": {
   "display_name": "Python 3",
   "language": "python",
   "name": "python3"
  },
  "language_info": {
   "codemirror_mode": {
    "name": "ipython",
    "version": 3
   },
   "file_extension": ".py",
   "mimetype": "text/x-python",
   "name": "python",
   "nbconvert_exporter": "python",
   "pygments_lexer": "ipython3",
   "version": "3.9.0"
  },
  "orig_nbformat": 4,
  "vscode": {
   "interpreter": {
    "hash": "938c95f0033500b5cc73bdf95f40df77042d77f11dd5399c4fd07d89509589de"
   }
  }
 },
 "nbformat": 4,
 "nbformat_minor": 2
}
