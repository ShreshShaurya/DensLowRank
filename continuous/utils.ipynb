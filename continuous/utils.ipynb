{
 "cells": [
  {
   "cell_type": "code",
   "execution_count": 43,
   "id": "470a9a54-1468-4b0a-9140-f96fdcf9757b",
   "metadata": {},
   "outputs": [],
   "source": [
    "\n",
    "###################################################################################################\n",
    "#I)Import Packages\n",
    "#import pypyodbc\n",
    "import pandas as pd\n",
    "import numpy as np\n",
    "import itertools\n",
    "import math\n",
    "import random\n",
    "import timeit\n",
    "import statistics\n",
    "import matplotlib.pyplot as plt\n",
    "import scipy.stats\n",
    "from matplotlib.pyplot import figure\n",
    "import matplotlib.pyplot as plt\n",
    "from scipy.stats import chisquare\n",
    "from scipy.stats import norm\n",
    "import scipy.stats as ss\n",
    "\n",
    "\n",
    "# set visualization of dataset\n",
    "pd.set_option('display.max_rows', 500)\n",
    "pd.set_option('display.max_columns', 500)\n",
    "pd.set_option('display.width', 1000)"
   ]
  },
  {
   "cell_type": "code",
   "execution_count": 59,
   "id": "e109b5aa-c2af-40ea-b551-0f59c3e0b030",
   "metadata": {},
   "outputs": [],
   "source": [
    "y = [1,2,3,4,5,10,3,5,3,1]\n",
    "\n",
    "\n",
    "def best_fiting_distribution(y):\n",
    "    lnspc = np.linspace(xmin, xmax, len(y))\n",
    "    dist_names = ['gamma','lognorm', 'norm','triang','uniform','laplace']\n",
    "    distribution_names = []\n",
    "    parameters = []\n",
    "    square_errors =[]\n",
    "    chisquare_stat = []\n",
    "    chisquare_pval= []\n",
    "    y_array = []\n",
    "    for dist_name in dist_names:\n",
    "        print(dist_name)\n",
    "        dist = getattr(scipy.stats, dist_name)\n",
    "        param = dist.fit(y)\n",
    "        print(param)\n",
    "        pdf_fitted = dist.pdf(lnspc, *param[:-2], param[-2], param[-1])\n",
    "        sse = np.sum(np.power(y - pdf_fitted, 2.0))\n",
    "        print(sse)\n",
    "        distribution_names.append(dist_name)\n",
    "        parameters.append(param)\n",
    "        square_errors.append(sse)\n",
    "        y_array.append(pdf_fitted)\n",
    "    \n",
    "    df = pd.DataFrame(columns = ['distribution_name','parameters','sse'])\n",
    "    df['distribution_name'] = distribution_names\n",
    "    df['parameters'] = parameters\n",
    "    df['sse'] = square_errors\n",
    "    df['pdf'] = y_array\n",
    "    best_distribution_risk = df[df['sse'] == df['sse'].min()]\n",
    "\n",
    "    return df, best_distribution_risk"
   ]
  },
  {
   "cell_type": "code",
   "execution_count": 60,
   "id": "2251f595-35e7-4f1c-8c0e-0af4ff5d9734",
   "metadata": {},
   "outputs": [
    {
     "name": "stdout",
     "output_type": "stream",
     "text": [
      "gamma\n",
      "(0.666523387220632, 0.9999999999999998, 2.704746401512935)\n",
      "3987095810.934494\n",
      "lognorm\n",
      "(0.6851162132893117, 0.0156080102784994, 2.9535610897850013)\n",
      "1949.8586429790284\n",
      "norm\n",
      "(3.7, 2.4919871588754225)\n",
      "1938.26912589649\n",
      "triang\n",
      "(0.9999997660469166, 0.09396471578060425, 9.906043868719062)\n",
      "1983.778141500266\n",
      "uniform\n",
      "(1.0, 9.0)\n",
      "1989.79012345679\n",
      "laplace\n",
      "(3.0, 1.7)\n",
      "1939.6578930495734\n"
     ]
    }
   ],
   "source": [
    "df, best_distribution_risk = best_fiting_distribution(y)"
   ]
  },
  {
   "cell_type": "code",
   "execution_count": 61,
   "id": "222f8427-222a-4783-a0f5-ed42d3685a25",
   "metadata": {},
   "outputs": [
    {
     "data": {
      "text/html": [
       "<div>\n",
       "<style scoped>\n",
       "    .dataframe tbody tr th:only-of-type {\n",
       "        vertical-align: middle;\n",
       "    }\n",
       "\n",
       "    .dataframe tbody tr th {\n",
       "        vertical-align: top;\n",
       "    }\n",
       "\n",
       "    .dataframe thead th {\n",
       "        text-align: right;\n",
       "    }\n",
       "</style>\n",
       "<table border=\"1\" class=\"dataframe\">\n",
       "  <thead>\n",
       "    <tr style=\"text-align: right;\">\n",
       "      <th></th>\n",
       "      <th>distribution_name</th>\n",
       "      <th>parameters</th>\n",
       "      <th>sse</th>\n",
       "      <th>pdf</th>\n",
       "    </tr>\n",
       "  </thead>\n",
       "  <tbody>\n",
       "    <tr>\n",
       "      <th>0</th>\n",
       "      <td>gamma</td>\n",
       "      <td>(0.666523387220632, 0.9999999999999998, 2.7047...</td>\n",
       "      <td>3.987096e+09</td>\n",
       "      <td>[0.0, 0.0, 0.0, 0.0, 0.0, 0.0, 0.0, 0.0, 0.0, ...</td>\n",
       "    </tr>\n",
       "    <tr>\n",
       "      <th>1</th>\n",
       "      <td>lognorm</td>\n",
       "      <td>(0.6851162132893117, 0.0156080102784994, 2.953...</td>\n",
       "      <td>1.949859e+03</td>\n",
       "      <td>[0.0, 0.0, 5.768427802837143e-18, 3.8632681171...</td>\n",
       "    </tr>\n",
       "    <tr>\n",
       "      <th>2</th>\n",
       "      <td>norm</td>\n",
       "      <td>(3.7, 2.4919871588754225)</td>\n",
       "      <td>1.938269e+03</td>\n",
       "      <td>[0.05316933760945543, 0.05348985285503354, 0.0...</td>\n",
       "    </tr>\n",
       "    <tr>\n",
       "      <th>3</th>\n",
       "      <td>triang</td>\n",
       "      <td>(0.9999997660469166, 0.09396471578060425, 9.90...</td>\n",
       "      <td>1.983778e+03</td>\n",
       "      <td>[0.0, 0.0, 0.0, 0.0, 0.0, 0.0, 0.0, 0.0, 0.0, ...</td>\n",
       "    </tr>\n",
       "    <tr>\n",
       "      <th>4</th>\n",
       "      <td>uniform</td>\n",
       "      <td>(1.0, 9.0)</td>\n",
       "      <td>1.989790e+03</td>\n",
       "      <td>[0.0, 0.0, 0.0, 0.0, 0.0, 0.0, 0.0, 0.0, 0.0, ...</td>\n",
       "    </tr>\n",
       "    <tr>\n",
       "      <th>5</th>\n",
       "      <td>laplace</td>\n",
       "      <td>(3.0, 1.7)</td>\n",
       "      <td>1.939658e+03</td>\n",
       "      <td>[0.05036386557199652, 0.05066400691262722, 0.0...</td>\n",
       "    </tr>\n",
       "  </tbody>\n",
       "</table>\n",
       "</div>"
      ],
      "text/plain": [
       "  distribution_name                                         parameters           sse                                                pdf\n",
       "0             gamma  (0.666523387220632, 0.9999999999999998, 2.7047...  3.987096e+09  [0.0, 0.0, 0.0, 0.0, 0.0, 0.0, 0.0, 0.0, 0.0, ...\n",
       "1           lognorm  (0.6851162132893117, 0.0156080102784994, 2.953...  1.949859e+03  [0.0, 0.0, 5.768427802837143e-18, 3.8632681171...\n",
       "2              norm                          (3.7, 2.4919871588754225)  1.938269e+03  [0.05316933760945543, 0.05348985285503354, 0.0...\n",
       "3            triang  (0.9999997660469166, 0.09396471578060425, 9.90...  1.983778e+03  [0.0, 0.0, 0.0, 0.0, 0.0, 0.0, 0.0, 0.0, 0.0, ...\n",
       "4           uniform                                         (1.0, 9.0)  1.989790e+03  [0.0, 0.0, 0.0, 0.0, 0.0, 0.0, 0.0, 0.0, 0.0, ...\n",
       "5           laplace                                         (3.0, 1.7)  1.939658e+03  [0.05036386557199652, 0.05066400691262722, 0.0..."
      ]
     },
     "execution_count": 61,
     "metadata": {},
     "output_type": "execute_result"
    }
   ],
   "source": [
    "df"
   ]
  },
  {
   "cell_type": "code",
   "execution_count": 62,
   "id": "066f293b-335a-4174-9aab-7fcc5958436e",
   "metadata": {},
   "outputs": [
    {
     "data": {
      "text/html": [
       "<div>\n",
       "<style scoped>\n",
       "    .dataframe tbody tr th:only-of-type {\n",
       "        vertical-align: middle;\n",
       "    }\n",
       "\n",
       "    .dataframe tbody tr th {\n",
       "        vertical-align: top;\n",
       "    }\n",
       "\n",
       "    .dataframe thead th {\n",
       "        text-align: right;\n",
       "    }\n",
       "</style>\n",
       "<table border=\"1\" class=\"dataframe\">\n",
       "  <thead>\n",
       "    <tr style=\"text-align: right;\">\n",
       "      <th></th>\n",
       "      <th>distribution_name</th>\n",
       "      <th>parameters</th>\n",
       "      <th>sse</th>\n",
       "      <th>pdf</th>\n",
       "    </tr>\n",
       "  </thead>\n",
       "  <tbody>\n",
       "    <tr>\n",
       "      <th>2</th>\n",
       "      <td>norm</td>\n",
       "      <td>(3.7, 2.4919871588754225)</td>\n",
       "      <td>1938.269126</td>\n",
       "      <td>[0.05316933760945543, 0.05348985285503354, 0.0...</td>\n",
       "    </tr>\n",
       "  </tbody>\n",
       "</table>\n",
       "</div>"
      ],
      "text/plain": [
       "  distribution_name                 parameters          sse                                                pdf\n",
       "2              norm  (3.7, 2.4919871588754225)  1938.269126  [0.05316933760945543, 0.05348985285503354, 0.0..."
      ]
     },
     "execution_count": 62,
     "metadata": {},
     "output_type": "execute_result"
    }
   ],
   "source": [
    "best_distribution_risk"
   ]
  },
  {
   "cell_type": "code",
   "execution_count": 27,
   "id": "23a70e88-dc39-466e-b172-9e9167a57c80",
   "metadata": {},
   "outputs": [],
   "source": [
    "y = [1,2,3,4,5,3,2,1,10,12,3,4]\n",
    "number_of_runs = 10**6"
   ]
  },
  {
   "cell_type": "code",
   "execution_count": 46,
   "id": "c3638e3c-c210-46c2-bbb5-2f8f0659f86d",
   "metadata": {},
   "outputs": [],
   "source": [
    "def monte_carlo(input_values, number_of_runs): \n",
    "    list_random = []\n",
    "    for j in range(0,number_of_runs):\n",
    "        ra = 0\n",
    "        for i in range(0,len(input_values)):\n",
    "            ra = ra + random.choices(input_values)[0]\n",
    "        list_random.append(ra)\n",
    "    norm_fit = norm.fit(list_random)\n",
    "    mu, sigma = norm_fit[0], norm_fit[1] \n",
    "    mc_distribution = np.random.normal(mu, sigma, number_of_runs)\n",
    "    return mc_distribution"
   ]
  },
  {
   "cell_type": "code",
   "execution_count": 49,
   "id": "212bc655-fa56-441b-a714-6b9516c83cc0",
   "metadata": {},
   "outputs": [],
   "source": [
    "mc_distribution = monte_carlo(y,number_of_runs)"
   ]
  },
  {
   "cell_type": "code",
   "execution_count": 37,
   "id": "7bbe773b-9a79-4741-998a-8c0355d972f2",
   "metadata": {},
   "outputs": [
    {
     "data": {
      "text/plain": [
       "([], [])"
      ]
     },
     "execution_count": 37,
     "metadata": {},
     "output_type": "execute_result"
    },
    {
     "data": {
      "image/png": "[encoded data removed]",
      "text/plain": [
       "<Figure size 1120x480 with 1 Axes>"
      ]
     },
     "metadata": {},
     "output_type": "display_data"
    }
   ],
   "source": [
    "\n",
    "figure(num=None, figsize=(14, 6), dpi=80, facecolor='w', edgecolor='k')\n",
    "mean = statistics.mean(mc)\n",
    "median = statistics.median(mc)\n",
    "data = list(map(round, mc))\n",
    "freq = Counter(data)\n",
    "mostfreq = freq.most_common()\n",
    "modes = list(takewhile(lambda x_f: x_f[1] == mostfreq[0][1], mostfreq))#\n",
    "mode = modes[0][0]\n",
    "stdevmc = statistics.stdev(mc)\n",
    "upper = np.percentile(mc, 97.5)\n",
    "lower = np.percentile(mc, 2.5)\n",
    "freq_mode = (mostfreq[0][1]/number_of_runs )\n",
    "_,_, bars = plt.hist(mc, color='lightcoral', bins=400,\n",
    "                  density=True)\n",
    "for bar in bars:\n",
    "    bar.set_facecolor(\"forestgreen\")\n",
    "plt.axvline(mode, color='steelblue', linestyle='dashed', linewidth=2, ymax = 0.72)\n",
    "plt.axvline(upper, color='black', linewidth=2)\n",
    "plt.axvline(lower, color='black', linewidth=2)\n",
    "\n",
    "plt.ylabel(\"Frequency of occurence \", fontsize=20)\n",
    "plt.title(f\"Monte Carlo\", fontsize=22)\n",
    "plt.tick_params(axis='x', labelsize=16)\n",
    "#------------------------------------------------ REPLACE MODE WITH MEDIAN OR MEAN\n",
    "plt.text(mode,freq_mode*1.17,f'Mode: {mode}',rotation=360,bbox=dict(facecolor='white', alpha=0.5),color='steelblue',fontsize=20,ha='center')\n",
    "#------------------------------------------------ REPLACE MODE WITH MEDIAN OR MEAN\n",
    "plt.text(upper,freq_mode*1.02,f'{round(upper,2)}',rotation=360,bbox=dict(facecolor='white', alpha=0.5),color='black',fontsize=20,ha='left')\n",
    "plt.text(lower,freq_mode*1.02,f'{round(lower,2)}',rotation=360,bbox=dict(facecolor='white', alpha=0.5),color='black',fontsize=20,ha='right')\n",
    "\n",
    "x1,x2,y1,y2 = plt.axis()\n",
    "plt.axis((x1,x2,0,(mostfreq[0][1]/number_of_runs )*1.6))\n",
    "plt.annotate('Range with 95% probability',xy=((upper+lower)/2, freq_mode*1.5),ha='center', fontsize=16)\n",
    "#plt.annotate(\n",
    "#    'Range with 95% probability', xy=(lower, freq_mode*1.5), xycoords='data',\n",
    "#    xytext=(upper, freq_mode*1.5), textcoords='offset points',va='center',color='black')\n",
    "plt.yticks([])"
   ]
  }
 ],
 "metadata": {
  "kernelspec": {
   "display_name": "Python 3 (ipykernel)",
   "language": "python",
   "name": "python3"
  },
  "language_info": {
   "codemirror_mode": {
    "name": "ipython",
    "version": 3
   },
   "file_extension": ".py",
   "mimetype": "text/x-python",
   "name": "python",
   "nbconvert_exporter": "python",
   "pygments_lexer": "ipython3",
   "version": "3.9.12"
  }
 },
 "nbformat": 4,
 "nbformat_minor": 5
}
